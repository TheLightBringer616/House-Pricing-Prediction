{
 "cells": [
  {
   "cell_type": "markdown",
   "metadata": {},
   "source": [
    "# Author\n",
    "\n",
    "## Luis Carlos Olivares Rueda\n",
    "\n",
    "### 09/15/2022\n",
    "\n",
    "### Applied Physics Student"
   ]
  },
  {
   "cell_type": "code",
   "execution_count": 1,
   "metadata": {},
   "outputs": [],
   "source": [
    "import numpy as np\n",
    "import pandas as pd\n",
    "\n",
    "import matplotlib.pyplot as plt\n",
    "import seaborn as sns\n",
    "\n",
    "from scipy import stats\n",
    "from scipy.stats import norm, skew\n",
    "from scipy.special import boxcox1p\n",
    "\n",
    "from sklearn.model_selection import KFold, cross_val_score\n",
    "from sklearn.preprocessing import StandardScaler, LabelEncoder\n",
    "\n",
    "from pycaret.regression import setup, compare_models, create_model, tune_model\n",
    "\n",
    "from catboost import CatBoostRegressor\n",
    "\n",
    "import optuna\n",
    "\n",
    "plt.style.use(['science', 'grid', 'notebook'])"
   ]
  },
  {
   "cell_type": "markdown",
   "metadata": {},
   "source": [
    "First, we merge both datasets"
   ]
  },
  {
   "cell_type": "code",
   "execution_count": 2,
   "metadata": {},
   "outputs": [],
   "source": [
    "train_df = pd.read_csv('train.csv')\n",
    "test_df = pd.read_csv('test.csv')\n",
    "df = pd.concat((train_df, test_df), axis=0).reset_index(drop=True)"
   ]
  },
  {
   "cell_type": "code",
   "execution_count": 3,
   "metadata": {},
   "outputs": [],
   "source": [
    "# Store targets in a separate variable\n",
    "target = train_df['SalePrice']\n",
    "# Store test_id's in a separate variable\n",
    "test_id = test_df['Id']\n",
    "#drop Id and SalePrice from merged dataset\n",
    "df2 = df.copy().drop(['Id', 'SalePrice'], axis=1)"
   ]
  },
  {
   "cell_type": "code",
   "execution_count": 4,
   "metadata": {},
   "outputs": [
    {
     "data": {
      "text/html": [
       "<div>\n",
       "<style scoped>\n",
       "    .dataframe tbody tr th:only-of-type {\n",
       "        vertical-align: middle;\n",
       "    }\n",
       "\n",
       "    .dataframe tbody tr th {\n",
       "        vertical-align: top;\n",
       "    }\n",
       "\n",
       "    .dataframe thead th {\n",
       "        text-align: right;\n",
       "    }\n",
       "</style>\n",
       "<table border=\"1\" class=\"dataframe\">\n",
       "  <thead>\n",
       "    <tr style=\"text-align: right;\">\n",
       "      <th></th>\n",
       "      <th>MSSubClass</th>\n",
       "      <th>MSZoning</th>\n",
       "      <th>LotFrontage</th>\n",
       "      <th>LotArea</th>\n",
       "      <th>Street</th>\n",
       "      <th>Alley</th>\n",
       "      <th>LotShape</th>\n",
       "      <th>LandContour</th>\n",
       "      <th>Utilities</th>\n",
       "      <th>LotConfig</th>\n",
       "      <th>LandSlope</th>\n",
       "      <th>Neighborhood</th>\n",
       "      <th>Condition1</th>\n",
       "      <th>Condition2</th>\n",
       "      <th>BldgType</th>\n",
       "      <th>HouseStyle</th>\n",
       "      <th>OverallQual</th>\n",
       "      <th>OverallCond</th>\n",
       "      <th>YearBuilt</th>\n",
       "      <th>YearRemodAdd</th>\n",
       "      <th>RoofStyle</th>\n",
       "      <th>RoofMatl</th>\n",
       "      <th>Exterior1st</th>\n",
       "      <th>Exterior2nd</th>\n",
       "      <th>MasVnrType</th>\n",
       "      <th>MasVnrArea</th>\n",
       "      <th>ExterQual</th>\n",
       "      <th>ExterCond</th>\n",
       "      <th>Foundation</th>\n",
       "      <th>BsmtQual</th>\n",
       "      <th>BsmtCond</th>\n",
       "      <th>BsmtExposure</th>\n",
       "      <th>BsmtFinType1</th>\n",
       "      <th>BsmtFinSF1</th>\n",
       "      <th>BsmtFinType2</th>\n",
       "      <th>BsmtFinSF2</th>\n",
       "      <th>BsmtUnfSF</th>\n",
       "      <th>TotalBsmtSF</th>\n",
       "      <th>Heating</th>\n",
       "      <th>HeatingQC</th>\n",
       "      <th>CentralAir</th>\n",
       "      <th>Electrical</th>\n",
       "      <th>1stFlrSF</th>\n",
       "      <th>2ndFlrSF</th>\n",
       "      <th>LowQualFinSF</th>\n",
       "      <th>GrLivArea</th>\n",
       "      <th>BsmtFullBath</th>\n",
       "      <th>BsmtHalfBath</th>\n",
       "      <th>FullBath</th>\n",
       "      <th>HalfBath</th>\n",
       "      <th>BedroomAbvGr</th>\n",
       "      <th>KitchenAbvGr</th>\n",
       "      <th>KitchenQual</th>\n",
       "      <th>TotRmsAbvGrd</th>\n",
       "      <th>Functional</th>\n",
       "      <th>Fireplaces</th>\n",
       "      <th>FireplaceQu</th>\n",
       "      <th>GarageType</th>\n",
       "      <th>GarageYrBlt</th>\n",
       "      <th>GarageFinish</th>\n",
       "      <th>GarageCars</th>\n",
       "      <th>GarageArea</th>\n",
       "      <th>GarageQual</th>\n",
       "      <th>GarageCond</th>\n",
       "      <th>PavedDrive</th>\n",
       "      <th>WoodDeckSF</th>\n",
       "      <th>OpenPorchSF</th>\n",
       "      <th>EnclosedPorch</th>\n",
       "      <th>3SsnPorch</th>\n",
       "      <th>ScreenPorch</th>\n",
       "      <th>PoolArea</th>\n",
       "      <th>PoolQC</th>\n",
       "      <th>Fence</th>\n",
       "      <th>MiscFeature</th>\n",
       "      <th>MiscVal</th>\n",
       "      <th>MoSold</th>\n",
       "      <th>YrSold</th>\n",
       "      <th>SaleType</th>\n",
       "      <th>SaleCondition</th>\n",
       "    </tr>\n",
       "  </thead>\n",
       "  <tbody>\n",
       "    <tr>\n",
       "      <th>0</th>\n",
       "      <td>60</td>\n",
       "      <td>RL</td>\n",
       "      <td>65.0</td>\n",
       "      <td>8450</td>\n",
       "      <td>Pave</td>\n",
       "      <td>NaN</td>\n",
       "      <td>Reg</td>\n",
       "      <td>Lvl</td>\n",
       "      <td>AllPub</td>\n",
       "      <td>Inside</td>\n",
       "      <td>Gtl</td>\n",
       "      <td>CollgCr</td>\n",
       "      <td>Norm</td>\n",
       "      <td>Norm</td>\n",
       "      <td>1Fam</td>\n",
       "      <td>2Story</td>\n",
       "      <td>7</td>\n",
       "      <td>5</td>\n",
       "      <td>2003</td>\n",
       "      <td>2003</td>\n",
       "      <td>Gable</td>\n",
       "      <td>CompShg</td>\n",
       "      <td>VinylSd</td>\n",
       "      <td>VinylSd</td>\n",
       "      <td>BrkFace</td>\n",
       "      <td>196.0</td>\n",
       "      <td>Gd</td>\n",
       "      <td>TA</td>\n",
       "      <td>PConc</td>\n",
       "      <td>Gd</td>\n",
       "      <td>TA</td>\n",
       "      <td>No</td>\n",
       "      <td>GLQ</td>\n",
       "      <td>706.0</td>\n",
       "      <td>Unf</td>\n",
       "      <td>0.0</td>\n",
       "      <td>150.0</td>\n",
       "      <td>856.0</td>\n",
       "      <td>GasA</td>\n",
       "      <td>Ex</td>\n",
       "      <td>Y</td>\n",
       "      <td>SBrkr</td>\n",
       "      <td>856</td>\n",
       "      <td>854</td>\n",
       "      <td>0</td>\n",
       "      <td>1710</td>\n",
       "      <td>1.0</td>\n",
       "      <td>0.0</td>\n",
       "      <td>2</td>\n",
       "      <td>1</td>\n",
       "      <td>3</td>\n",
       "      <td>1</td>\n",
       "      <td>Gd</td>\n",
       "      <td>8</td>\n",
       "      <td>Typ</td>\n",
       "      <td>0</td>\n",
       "      <td>NaN</td>\n",
       "      <td>Attchd</td>\n",
       "      <td>2003.0</td>\n",
       "      <td>RFn</td>\n",
       "      <td>2.0</td>\n",
       "      <td>548.0</td>\n",
       "      <td>TA</td>\n",
       "      <td>TA</td>\n",
       "      <td>Y</td>\n",
       "      <td>0</td>\n",
       "      <td>61</td>\n",
       "      <td>0</td>\n",
       "      <td>0</td>\n",
       "      <td>0</td>\n",
       "      <td>0</td>\n",
       "      <td>NaN</td>\n",
       "      <td>NaN</td>\n",
       "      <td>NaN</td>\n",
       "      <td>0</td>\n",
       "      <td>2</td>\n",
       "      <td>2008</td>\n",
       "      <td>WD</td>\n",
       "      <td>Normal</td>\n",
       "    </tr>\n",
       "    <tr>\n",
       "      <th>1</th>\n",
       "      <td>20</td>\n",
       "      <td>RL</td>\n",
       "      <td>80.0</td>\n",
       "      <td>9600</td>\n",
       "      <td>Pave</td>\n",
       "      <td>NaN</td>\n",
       "      <td>Reg</td>\n",
       "      <td>Lvl</td>\n",
       "      <td>AllPub</td>\n",
       "      <td>FR2</td>\n",
       "      <td>Gtl</td>\n",
       "      <td>Veenker</td>\n",
       "      <td>Feedr</td>\n",
       "      <td>Norm</td>\n",
       "      <td>1Fam</td>\n",
       "      <td>1Story</td>\n",
       "      <td>6</td>\n",
       "      <td>8</td>\n",
       "      <td>1976</td>\n",
       "      <td>1976</td>\n",
       "      <td>Gable</td>\n",
       "      <td>CompShg</td>\n",
       "      <td>MetalSd</td>\n",
       "      <td>MetalSd</td>\n",
       "      <td>None</td>\n",
       "      <td>0.0</td>\n",
       "      <td>TA</td>\n",
       "      <td>TA</td>\n",
       "      <td>CBlock</td>\n",
       "      <td>Gd</td>\n",
       "      <td>TA</td>\n",
       "      <td>Gd</td>\n",
       "      <td>ALQ</td>\n",
       "      <td>978.0</td>\n",
       "      <td>Unf</td>\n",
       "      <td>0.0</td>\n",
       "      <td>284.0</td>\n",
       "      <td>1262.0</td>\n",
       "      <td>GasA</td>\n",
       "      <td>Ex</td>\n",
       "      <td>Y</td>\n",
       "      <td>SBrkr</td>\n",
       "      <td>1262</td>\n",
       "      <td>0</td>\n",
       "      <td>0</td>\n",
       "      <td>1262</td>\n",
       "      <td>0.0</td>\n",
       "      <td>1.0</td>\n",
       "      <td>2</td>\n",
       "      <td>0</td>\n",
       "      <td>3</td>\n",
       "      <td>1</td>\n",
       "      <td>TA</td>\n",
       "      <td>6</td>\n",
       "      <td>Typ</td>\n",
       "      <td>1</td>\n",
       "      <td>TA</td>\n",
       "      <td>Attchd</td>\n",
       "      <td>1976.0</td>\n",
       "      <td>RFn</td>\n",
       "      <td>2.0</td>\n",
       "      <td>460.0</td>\n",
       "      <td>TA</td>\n",
       "      <td>TA</td>\n",
       "      <td>Y</td>\n",
       "      <td>298</td>\n",
       "      <td>0</td>\n",
       "      <td>0</td>\n",
       "      <td>0</td>\n",
       "      <td>0</td>\n",
       "      <td>0</td>\n",
       "      <td>NaN</td>\n",
       "      <td>NaN</td>\n",
       "      <td>NaN</td>\n",
       "      <td>0</td>\n",
       "      <td>5</td>\n",
       "      <td>2007</td>\n",
       "      <td>WD</td>\n",
       "      <td>Normal</td>\n",
       "    </tr>\n",
       "    <tr>\n",
       "      <th>2</th>\n",
       "      <td>60</td>\n",
       "      <td>RL</td>\n",
       "      <td>68.0</td>\n",
       "      <td>11250</td>\n",
       "      <td>Pave</td>\n",
       "      <td>NaN</td>\n",
       "      <td>IR1</td>\n",
       "      <td>Lvl</td>\n",
       "      <td>AllPub</td>\n",
       "      <td>Inside</td>\n",
       "      <td>Gtl</td>\n",
       "      <td>CollgCr</td>\n",
       "      <td>Norm</td>\n",
       "      <td>Norm</td>\n",
       "      <td>1Fam</td>\n",
       "      <td>2Story</td>\n",
       "      <td>7</td>\n",
       "      <td>5</td>\n",
       "      <td>2001</td>\n",
       "      <td>2002</td>\n",
       "      <td>Gable</td>\n",
       "      <td>CompShg</td>\n",
       "      <td>VinylSd</td>\n",
       "      <td>VinylSd</td>\n",
       "      <td>BrkFace</td>\n",
       "      <td>162.0</td>\n",
       "      <td>Gd</td>\n",
       "      <td>TA</td>\n",
       "      <td>PConc</td>\n",
       "      <td>Gd</td>\n",
       "      <td>TA</td>\n",
       "      <td>Mn</td>\n",
       "      <td>GLQ</td>\n",
       "      <td>486.0</td>\n",
       "      <td>Unf</td>\n",
       "      <td>0.0</td>\n",
       "      <td>434.0</td>\n",
       "      <td>920.0</td>\n",
       "      <td>GasA</td>\n",
       "      <td>Ex</td>\n",
       "      <td>Y</td>\n",
       "      <td>SBrkr</td>\n",
       "      <td>920</td>\n",
       "      <td>866</td>\n",
       "      <td>0</td>\n",
       "      <td>1786</td>\n",
       "      <td>1.0</td>\n",
       "      <td>0.0</td>\n",
       "      <td>2</td>\n",
       "      <td>1</td>\n",
       "      <td>3</td>\n",
       "      <td>1</td>\n",
       "      <td>Gd</td>\n",
       "      <td>6</td>\n",
       "      <td>Typ</td>\n",
       "      <td>1</td>\n",
       "      <td>TA</td>\n",
       "      <td>Attchd</td>\n",
       "      <td>2001.0</td>\n",
       "      <td>RFn</td>\n",
       "      <td>2.0</td>\n",
       "      <td>608.0</td>\n",
       "      <td>TA</td>\n",
       "      <td>TA</td>\n",
       "      <td>Y</td>\n",
       "      <td>0</td>\n",
       "      <td>42</td>\n",
       "      <td>0</td>\n",
       "      <td>0</td>\n",
       "      <td>0</td>\n",
       "      <td>0</td>\n",
       "      <td>NaN</td>\n",
       "      <td>NaN</td>\n",
       "      <td>NaN</td>\n",
       "      <td>0</td>\n",
       "      <td>9</td>\n",
       "      <td>2008</td>\n",
       "      <td>WD</td>\n",
       "      <td>Normal</td>\n",
       "    </tr>\n",
       "    <tr>\n",
       "      <th>3</th>\n",
       "      <td>70</td>\n",
       "      <td>RL</td>\n",
       "      <td>60.0</td>\n",
       "      <td>9550</td>\n",
       "      <td>Pave</td>\n",
       "      <td>NaN</td>\n",
       "      <td>IR1</td>\n",
       "      <td>Lvl</td>\n",
       "      <td>AllPub</td>\n",
       "      <td>Corner</td>\n",
       "      <td>Gtl</td>\n",
       "      <td>Crawfor</td>\n",
       "      <td>Norm</td>\n",
       "      <td>Norm</td>\n",
       "      <td>1Fam</td>\n",
       "      <td>2Story</td>\n",
       "      <td>7</td>\n",
       "      <td>5</td>\n",
       "      <td>1915</td>\n",
       "      <td>1970</td>\n",
       "      <td>Gable</td>\n",
       "      <td>CompShg</td>\n",
       "      <td>Wd Sdng</td>\n",
       "      <td>Wd Shng</td>\n",
       "      <td>None</td>\n",
       "      <td>0.0</td>\n",
       "      <td>TA</td>\n",
       "      <td>TA</td>\n",
       "      <td>BrkTil</td>\n",
       "      <td>TA</td>\n",
       "      <td>Gd</td>\n",
       "      <td>No</td>\n",
       "      <td>ALQ</td>\n",
       "      <td>216.0</td>\n",
       "      <td>Unf</td>\n",
       "      <td>0.0</td>\n",
       "      <td>540.0</td>\n",
       "      <td>756.0</td>\n",
       "      <td>GasA</td>\n",
       "      <td>Gd</td>\n",
       "      <td>Y</td>\n",
       "      <td>SBrkr</td>\n",
       "      <td>961</td>\n",
       "      <td>756</td>\n",
       "      <td>0</td>\n",
       "      <td>1717</td>\n",
       "      <td>1.0</td>\n",
       "      <td>0.0</td>\n",
       "      <td>1</td>\n",
       "      <td>0</td>\n",
       "      <td>3</td>\n",
       "      <td>1</td>\n",
       "      <td>Gd</td>\n",
       "      <td>7</td>\n",
       "      <td>Typ</td>\n",
       "      <td>1</td>\n",
       "      <td>Gd</td>\n",
       "      <td>Detchd</td>\n",
       "      <td>1998.0</td>\n",
       "      <td>Unf</td>\n",
       "      <td>3.0</td>\n",
       "      <td>642.0</td>\n",
       "      <td>TA</td>\n",
       "      <td>TA</td>\n",
       "      <td>Y</td>\n",
       "      <td>0</td>\n",
       "      <td>35</td>\n",
       "      <td>272</td>\n",
       "      <td>0</td>\n",
       "      <td>0</td>\n",
       "      <td>0</td>\n",
       "      <td>NaN</td>\n",
       "      <td>NaN</td>\n",
       "      <td>NaN</td>\n",
       "      <td>0</td>\n",
       "      <td>2</td>\n",
       "      <td>2006</td>\n",
       "      <td>WD</td>\n",
       "      <td>Abnorml</td>\n",
       "    </tr>\n",
       "    <tr>\n",
       "      <th>4</th>\n",
       "      <td>60</td>\n",
       "      <td>RL</td>\n",
       "      <td>84.0</td>\n",
       "      <td>14260</td>\n",
       "      <td>Pave</td>\n",
       "      <td>NaN</td>\n",
       "      <td>IR1</td>\n",
       "      <td>Lvl</td>\n",
       "      <td>AllPub</td>\n",
       "      <td>FR2</td>\n",
       "      <td>Gtl</td>\n",
       "      <td>NoRidge</td>\n",
       "      <td>Norm</td>\n",
       "      <td>Norm</td>\n",
       "      <td>1Fam</td>\n",
       "      <td>2Story</td>\n",
       "      <td>8</td>\n",
       "      <td>5</td>\n",
       "      <td>2000</td>\n",
       "      <td>2000</td>\n",
       "      <td>Gable</td>\n",
       "      <td>CompShg</td>\n",
       "      <td>VinylSd</td>\n",
       "      <td>VinylSd</td>\n",
       "      <td>BrkFace</td>\n",
       "      <td>350.0</td>\n",
       "      <td>Gd</td>\n",
       "      <td>TA</td>\n",
       "      <td>PConc</td>\n",
       "      <td>Gd</td>\n",
       "      <td>TA</td>\n",
       "      <td>Av</td>\n",
       "      <td>GLQ</td>\n",
       "      <td>655.0</td>\n",
       "      <td>Unf</td>\n",
       "      <td>0.0</td>\n",
       "      <td>490.0</td>\n",
       "      <td>1145.0</td>\n",
       "      <td>GasA</td>\n",
       "      <td>Ex</td>\n",
       "      <td>Y</td>\n",
       "      <td>SBrkr</td>\n",
       "      <td>1145</td>\n",
       "      <td>1053</td>\n",
       "      <td>0</td>\n",
       "      <td>2198</td>\n",
       "      <td>1.0</td>\n",
       "      <td>0.0</td>\n",
       "      <td>2</td>\n",
       "      <td>1</td>\n",
       "      <td>4</td>\n",
       "      <td>1</td>\n",
       "      <td>Gd</td>\n",
       "      <td>9</td>\n",
       "      <td>Typ</td>\n",
       "      <td>1</td>\n",
       "      <td>TA</td>\n",
       "      <td>Attchd</td>\n",
       "      <td>2000.0</td>\n",
       "      <td>RFn</td>\n",
       "      <td>3.0</td>\n",
       "      <td>836.0</td>\n",
       "      <td>TA</td>\n",
       "      <td>TA</td>\n",
       "      <td>Y</td>\n",
       "      <td>192</td>\n",
       "      <td>84</td>\n",
       "      <td>0</td>\n",
       "      <td>0</td>\n",
       "      <td>0</td>\n",
       "      <td>0</td>\n",
       "      <td>NaN</td>\n",
       "      <td>NaN</td>\n",
       "      <td>NaN</td>\n",
       "      <td>0</td>\n",
       "      <td>12</td>\n",
       "      <td>2008</td>\n",
       "      <td>WD</td>\n",
       "      <td>Normal</td>\n",
       "    </tr>\n",
       "  </tbody>\n",
       "</table>\n",
       "</div>"
      ],
      "text/plain": [
       "   MSSubClass MSZoning  LotFrontage  LotArea Street Alley LotShape  \\\n",
       "0          60       RL         65.0     8450   Pave   NaN      Reg   \n",
       "1          20       RL         80.0     9600   Pave   NaN      Reg   \n",
       "2          60       RL         68.0    11250   Pave   NaN      IR1   \n",
       "3          70       RL         60.0     9550   Pave   NaN      IR1   \n",
       "4          60       RL         84.0    14260   Pave   NaN      IR1   \n",
       "\n",
       "  LandContour Utilities LotConfig LandSlope Neighborhood Condition1  \\\n",
       "0         Lvl    AllPub    Inside       Gtl      CollgCr       Norm   \n",
       "1         Lvl    AllPub       FR2       Gtl      Veenker      Feedr   \n",
       "2         Lvl    AllPub    Inside       Gtl      CollgCr       Norm   \n",
       "3         Lvl    AllPub    Corner       Gtl      Crawfor       Norm   \n",
       "4         Lvl    AllPub       FR2       Gtl      NoRidge       Norm   \n",
       "\n",
       "  Condition2 BldgType HouseStyle  OverallQual  OverallCond  YearBuilt  \\\n",
       "0       Norm     1Fam     2Story            7            5       2003   \n",
       "1       Norm     1Fam     1Story            6            8       1976   \n",
       "2       Norm     1Fam     2Story            7            5       2001   \n",
       "3       Norm     1Fam     2Story            7            5       1915   \n",
       "4       Norm     1Fam     2Story            8            5       2000   \n",
       "\n",
       "   YearRemodAdd RoofStyle RoofMatl Exterior1st Exterior2nd MasVnrType  \\\n",
       "0          2003     Gable  CompShg     VinylSd     VinylSd    BrkFace   \n",
       "1          1976     Gable  CompShg     MetalSd     MetalSd       None   \n",
       "2          2002     Gable  CompShg     VinylSd     VinylSd    BrkFace   \n",
       "3          1970     Gable  CompShg     Wd Sdng     Wd Shng       None   \n",
       "4          2000     Gable  CompShg     VinylSd     VinylSd    BrkFace   \n",
       "\n",
       "   MasVnrArea ExterQual ExterCond Foundation BsmtQual BsmtCond BsmtExposure  \\\n",
       "0       196.0        Gd        TA      PConc       Gd       TA           No   \n",
       "1         0.0        TA        TA     CBlock       Gd       TA           Gd   \n",
       "2       162.0        Gd        TA      PConc       Gd       TA           Mn   \n",
       "3         0.0        TA        TA     BrkTil       TA       Gd           No   \n",
       "4       350.0        Gd        TA      PConc       Gd       TA           Av   \n",
       "\n",
       "  BsmtFinType1  BsmtFinSF1 BsmtFinType2  BsmtFinSF2  BsmtUnfSF  TotalBsmtSF  \\\n",
       "0          GLQ       706.0          Unf         0.0      150.0        856.0   \n",
       "1          ALQ       978.0          Unf         0.0      284.0       1262.0   \n",
       "2          GLQ       486.0          Unf         0.0      434.0        920.0   \n",
       "3          ALQ       216.0          Unf         0.0      540.0        756.0   \n",
       "4          GLQ       655.0          Unf         0.0      490.0       1145.0   \n",
       "\n",
       "  Heating HeatingQC CentralAir Electrical  1stFlrSF  2ndFlrSF  LowQualFinSF  \\\n",
       "0    GasA        Ex          Y      SBrkr       856       854             0   \n",
       "1    GasA        Ex          Y      SBrkr      1262         0             0   \n",
       "2    GasA        Ex          Y      SBrkr       920       866             0   \n",
       "3    GasA        Gd          Y      SBrkr       961       756             0   \n",
       "4    GasA        Ex          Y      SBrkr      1145      1053             0   \n",
       "\n",
       "   GrLivArea  BsmtFullBath  BsmtHalfBath  FullBath  HalfBath  BedroomAbvGr  \\\n",
       "0       1710           1.0           0.0         2         1             3   \n",
       "1       1262           0.0           1.0         2         0             3   \n",
       "2       1786           1.0           0.0         2         1             3   \n",
       "3       1717           1.0           0.0         1         0             3   \n",
       "4       2198           1.0           0.0         2         1             4   \n",
       "\n",
       "   KitchenAbvGr KitchenQual  TotRmsAbvGrd Functional  Fireplaces FireplaceQu  \\\n",
       "0             1          Gd             8        Typ           0         NaN   \n",
       "1             1          TA             6        Typ           1          TA   \n",
       "2             1          Gd             6        Typ           1          TA   \n",
       "3             1          Gd             7        Typ           1          Gd   \n",
       "4             1          Gd             9        Typ           1          TA   \n",
       "\n",
       "  GarageType  GarageYrBlt GarageFinish  GarageCars  GarageArea GarageQual  \\\n",
       "0     Attchd       2003.0          RFn         2.0       548.0         TA   \n",
       "1     Attchd       1976.0          RFn         2.0       460.0         TA   \n",
       "2     Attchd       2001.0          RFn         2.0       608.0         TA   \n",
       "3     Detchd       1998.0          Unf         3.0       642.0         TA   \n",
       "4     Attchd       2000.0          RFn         3.0       836.0         TA   \n",
       "\n",
       "  GarageCond PavedDrive  WoodDeckSF  OpenPorchSF  EnclosedPorch  3SsnPorch  \\\n",
       "0         TA          Y           0           61              0          0   \n",
       "1         TA          Y         298            0              0          0   \n",
       "2         TA          Y           0           42              0          0   \n",
       "3         TA          Y           0           35            272          0   \n",
       "4         TA          Y         192           84              0          0   \n",
       "\n",
       "   ScreenPorch  PoolArea PoolQC Fence MiscFeature  MiscVal  MoSold  YrSold  \\\n",
       "0            0         0    NaN   NaN         NaN        0       2    2008   \n",
       "1            0         0    NaN   NaN         NaN        0       5    2007   \n",
       "2            0         0    NaN   NaN         NaN        0       9    2008   \n",
       "3            0         0    NaN   NaN         NaN        0       2    2006   \n",
       "4            0         0    NaN   NaN         NaN        0      12    2008   \n",
       "\n",
       "  SaleType SaleCondition  \n",
       "0       WD        Normal  \n",
       "1       WD        Normal  \n",
       "2       WD        Normal  \n",
       "3       WD       Abnorml  \n",
       "4       WD        Normal  "
      ]
     },
     "execution_count": 4,
     "metadata": {},
     "output_type": "execute_result"
    }
   ],
   "source": [
    "df2.head()"
   ]
  },
  {
   "cell_type": "markdown",
   "metadata": {},
   "source": [
    "# Cleaning"
   ]
  },
  {
   "cell_type": "markdown",
   "metadata": {},
   "source": [
    "Find missing values"
   ]
  },
  {
   "cell_type": "code",
   "execution_count": 5,
   "metadata": {},
   "outputs": [
    {
     "data": {
      "text/plain": [
       "MSZoning           4\n",
       "LotFrontage      486\n",
       "Alley           2721\n",
       "Utilities          2\n",
       "Exterior1st        1\n",
       "Exterior2nd        1\n",
       "MasVnrType        24\n",
       "MasVnrArea        23\n",
       "BsmtQual          81\n",
       "BsmtCond          82\n",
       "BsmtExposure      82\n",
       "BsmtFinType1      79\n",
       "BsmtFinSF1         1\n",
       "BsmtFinType2      80\n",
       "BsmtFinSF2         1\n",
       "BsmtUnfSF          1\n",
       "TotalBsmtSF        1\n",
       "Electrical         1\n",
       "BsmtFullBath       2\n",
       "BsmtHalfBath       2\n",
       "KitchenQual        1\n",
       "Functional         2\n",
       "FireplaceQu     1420\n",
       "GarageType       157\n",
       "GarageYrBlt      159\n",
       "GarageFinish     159\n",
       "GarageCars         1\n",
       "GarageArea         1\n",
       "GarageQual       159\n",
       "GarageCond       159\n",
       "PoolQC          2909\n",
       "Fence           2348\n",
       "MiscFeature     2814\n",
       "SaleType           1\n",
       "SalePrice       1459\n",
       "dtype: int64"
      ]
     },
     "execution_count": 5,
     "metadata": {},
     "output_type": "execute_result"
    }
   ],
   "source": [
    "df.isna().sum()[df.isna().sum() > 0]"
   ]
  },
  {
   "cell_type": "markdown",
   "metadata": {},
   "source": [
    "Fill missing values and change data types"
   ]
  },
  {
   "cell_type": "code",
   "execution_count": 6,
   "metadata": {},
   "outputs": [],
   "source": [
    "df3 = df2.copy()\n",
    "\n",
    "# fill with 0\n",
    "fill_zero = ['MasVnrArea', 'BsmtFinSF1', 'BsmtFinSF2', 'BsmtUnfSF', 'TotalBsmtSF', 'BsmtFullBath', 'BsmtHalfBath', 'GarageCars', 'GarageArea', 'GarageYrBlt']\n",
    "df3[fill_zero] = df3[fill_zero].fillna(0)\n",
    "\n",
    "# change type to object\n",
    "change_cat = ['MSSubClass', 'YearBuilt', 'YearRemodAdd', 'GarageYrBlt', 'MoSold', 'YrSold', 'OverallQual', 'OverallCond']\n",
    "df3[change_cat] = df3[change_cat].astype(object)\n",
    "\n",
    "# fill with None\n",
    "fill_none = ['Alley', 'FireplaceQu', 'PoolQC', 'Fence', 'MiscFeature', 'BsmtQual', 'BsmtCond', 'BsmtExposure', 'BsmtFinType1', 'BsmtFinType2', 'GarageType', 'GarageFinish', 'GarageQual', 'GarageCond', 'MasVnrType']\n",
    "df3[fill_none] = df3[fill_none].fillna('None')\n",
    "\n",
    "# fill with mean of LotFrontage grouped by Neighborhood\n",
    "df3['LotFrontage'] = df3.groupby(['Neighborhood'])['LotFrontage'].transform(lambda x: x.fillna(x.mean()))\n",
    "\n",
    "# fill with mode of LotFrontage grouped by Neighborhood\n",
    "replace_with_mode_features = ['MSZoning', 'Utilities', 'Exterior1st', 'Exterior2nd', 'Electrical', 'KitchenQual', 'Functional', 'SaleType']\n",
    "for i in replace_with_mode_features:\n",
    "    df3[i] = df3.groupby(['Neighborhood'])[i].transform(lambda x: x.fillna(x.mode()[0]))"
   ]
  },
  {
   "cell_type": "code",
   "execution_count": 7,
   "metadata": {},
   "outputs": [
    {
     "data": {
      "text/plain": [
       "Series([], dtype: int64)"
      ]
     },
     "execution_count": 7,
     "metadata": {},
     "output_type": "execute_result"
    }
   ],
   "source": [
    "df3.isna().sum()[df3.isna().sum() > 0]"
   ]
  },
  {
   "cell_type": "markdown",
   "metadata": {},
   "source": [
    "# Feature Engineering"
   ]
  },
  {
   "cell_type": "code",
   "execution_count": 8,
   "metadata": {},
   "outputs": [],
   "source": [
    "df3_2 = df3.copy()"
   ]
  },
  {
   "cell_type": "markdown",
   "metadata": {},
   "source": [
    "Create new variables"
   ]
  },
  {
   "cell_type": "code",
   "execution_count": 9,
   "metadata": {},
   "outputs": [],
   "source": [
    "# Square per Room\n",
    "df3_2[\"SqFtPerRoom\"] = df3_2[\"GrLivArea\"] / (df3_2[\"TotRmsAbvGrd\"] +\n",
    "                                                       df3_2[\"FullBath\"] +\n",
    "                                                       df3_2[\"HalfBath\"] +\n",
    "                                                       df3_2[\"KitchenAbvGr\"])\n",
    "\n",
    "# Total Home Quality\n",
    "df3_2['Total_Home_Quality'] = df3_2['OverallQual'] + df3_2['OverallCond']\n",
    "\n",
    "# Total Bathrooms\n",
    "df3_2['Total_Bathrooms'] = (df3_2['FullBath'] + (0.5 * df3_2['HalfBath']) +\n",
    "                               df3_2['BsmtFullBath'] + (0.5 * df3_2['BsmtHalfBath']))\n",
    "\n",
    "# HighQualSF\n",
    "df3_2[\"HighQualSF\"] = df3_2[\"1stFlrSF\"] + df3_2[\"2ndFlrSF\"]"
   ]
  },
  {
   "cell_type": "markdown",
   "metadata": {},
   "source": [
    "# Target transformation"
   ]
  },
  {
   "cell_type": "markdown",
   "metadata": {},
   "source": [
    "Target variable distribution is left-skewed"
   ]
  },
  {
   "cell_type": "code",
   "execution_count": 10,
   "metadata": {},
   "outputs": [
    {
     "data": {
      "image/png": "[encoded data removed]",
      "text/plain": [
       "<Figure size 2000x700 with 1 Axes>"
      ]
     },
     "metadata": {},
     "output_type": "display_data"
    }
   ],
   "source": [
    "plt.figure(figsize=(20, 7))\n",
    "ax = sns.histplot(target, stat='density', color='orange')\n",
    "mu, std = norm.fit(target)\n",
    "xx = np.linspace(*ax.get_xlim(),100)\n",
    "plt.title('Sales Price Distribution')\n",
    "ax.plot(xx, norm.pdf(xx, mu, std), c='black', lw=4)\n",
    "plt.show()"
   ]
  },
  {
   "cell_type": "markdown",
   "metadata": {},
   "source": [
    "Log-Transformation Distribution of target variable is more normally distributed"
   ]
  },
  {
   "cell_type": "code",
   "execution_count": 11,
   "metadata": {},
   "outputs": [
    {
     "data": {
      "image/png": "[encoded data removed]",
      "text/plain": [
       "<Figure size 2000x700 with 1 Axes>"
      ]
     },
     "metadata": {},
     "output_type": "display_data"
    }
   ],
   "source": [
    "log_target = np.log(target)\n",
    "\n",
    "plt.figure(figsize=(20, 7))\n",
    "ax2 = sns.histplot(log_target, stat='density', color='orange')\n",
    "mu2, std2 = norm.fit(log_target)\n",
    "xx2 = np.linspace(*ax2.get_xlim(),100)\n",
    "plt.title('Sales Price Distribution')\n",
    "ax2.plot(xx2, norm.pdf(xx2, mu2, std2), c='black', lw=4)\n",
    "plt.show()"
   ]
  },
  {
   "cell_type": "markdown",
   "metadata": {},
   "source": [
    "# Features transformation"
   ]
  },
  {
   "cell_type": "markdown",
   "metadata": {},
   "source": [
    "Like target variable, some features may be biased. <br>\n",
    "To fix this we need to apply a transformation to the biased features. <br>\n",
    "Box-Cox transformation is used with a $\\lambda=0.15$."
   ]
  },
  {
   "cell_type": "code",
   "execution_count": 12,
   "metadata": {},
   "outputs": [],
   "source": [
    "df4 = df3_2.copy()"
   ]
  },
  {
   "cell_type": "markdown",
   "metadata": {},
   "source": [
    "Skew of all numeric features is calculated and the features transformed are all that have an absolute value of the skew grater than $0.5$."
   ]
  },
  {
   "cell_type": "code",
   "execution_count": 13,
   "metadata": {},
   "outputs": [],
   "source": [
    "numeric_features = df4.dtypes[df4.dtypes != 'object'].index\n",
    "\n",
    "skewed_features = df4[numeric_features].apply(lambda x: skew(x.dropna()))\n",
    "skewed_features = skewed_features[np.abs(skewed_features) > 0.5].index"
   ]
  },
  {
   "cell_type": "code",
   "execution_count": 14,
   "metadata": {},
   "outputs": [],
   "source": [
    "lamda = 0.15\n",
    "for i in skewed_features:\n",
    "    df4[i] = boxcox1p(df4[i], lamda)"
   ]
  },
  {
   "cell_type": "markdown",
   "metadata": {},
   "source": [
    "# Encoding"
   ]
  },
  {
   "cell_type": "markdown",
   "metadata": {},
   "source": [
    "To fit the models we need to encode categorical variables"
   ]
  },
  {
   "cell_type": "code",
   "execution_count": 15,
   "metadata": {},
   "outputs": [],
   "source": [
    "df5 = df4.copy()"
   ]
  },
  {
   "cell_type": "markdown",
   "metadata": {},
   "source": [
    "Label encoding was applied to all the categorical features that are ordinal (check data_description.txt)."
   ]
  },
  {
   "cell_type": "code",
   "execution_count": 16,
   "metadata": {},
   "outputs": [],
   "source": [
    "# Ordinal features\n",
    "categorical_features_label_encoder = ['MSSubClass', 'OverallQual', 'OverallCond', 'ExterQual', 'ExterCond', 'BsmtQual', 'BsmtCond', 'BsmtExposure', 'BsmtFinType1', 'BsmtFinType2', 'HeatingQC', 'KitchenQual', 'FireplaceQu', 'GarageQual', 'GarageCond', 'PoolQC', 'Functional', 'Fence', 'GarageFinish', 'LandSlope', 'LotShape', 'PavedDrive', 'Street', 'Alley', 'CentralAir', 'YrSold', 'MoSold', 'YearBuilt', 'YearRemodAdd', 'GarageYrBlt']\n",
    "\n",
    "for i in categorical_features_label_encoder:\n",
    "    encoder = LabelEncoder()\n",
    "    encoder.fit(df5[i].values)\n",
    "    df5[i] = encoder.transform(df5[i].values)"
   ]
  },
  {
   "cell_type": "code",
   "execution_count": 17,
   "metadata": {},
   "outputs": [],
   "source": [
    "df6 = df5.copy()"
   ]
  },
  {
   "cell_type": "markdown",
   "metadata": {},
   "source": [
    "The rest of the categorical features were One-Hot Encoded."
   ]
  },
  {
   "cell_type": "code",
   "execution_count": 18,
   "metadata": {},
   "outputs": [],
   "source": [
    "df6 = pd.get_dummies(df6)"
   ]
  },
  {
   "cell_type": "markdown",
   "metadata": {},
   "source": [
    "# Scaling"
   ]
  },
  {
   "cell_type": "markdown",
   "metadata": {},
   "source": [
    "The data were standardized to avoid that some features having more weight than the others in the modeling process."
   ]
  },
  {
   "cell_type": "code",
   "execution_count": 19,
   "metadata": {},
   "outputs": [],
   "source": [
    "df7 = df6.copy()"
   ]
  },
  {
   "cell_type": "code",
   "execution_count": 20,
   "metadata": {},
   "outputs": [],
   "source": [
    "scaler = StandardScaler()\n",
    "scaler.fit(df7.values)\n",
    "\n",
    "df7 = pd.DataFrame(scaler.transform(df7.values), index=df7.index, columns=df7.columns)"
   ]
  },
  {
   "cell_type": "markdown",
   "metadata": {},
   "source": [
    "# Split"
   ]
  },
  {
   "cell_type": "markdown",
   "metadata": {},
   "source": [
    "The data were divided into train and test sets."
   ]
  },
  {
   "cell_type": "code",
   "execution_count": 21,
   "metadata": {},
   "outputs": [],
   "source": [
    "X = df7.copy().iloc[:train_df.shape[0], :]\n",
    "X_test = df7.copy().iloc[train_df.shape[0]:, :].reset_index(drop=True)"
   ]
  },
  {
   "cell_type": "markdown",
   "metadata": {},
   "source": [
    "# Model Selection"
   ]
  },
  {
   "cell_type": "markdown",
   "metadata": {},
   "source": [
    "Pycaret is only used as a reference for choosing a regression model."
   ]
  },
  {
   "cell_type": "code",
   "execution_count": 22,
   "metadata": {},
   "outputs": [
    {
     "data": {
      "text/html": [
       "<style type=\"text/css\">\n",
       "#T_364b7_row42_col1 {\n",
       "  background-color: lightgreen;\n",
       "}\n",
       "</style>\n",
       "<table id=\"T_364b7\">\n",
       "  <thead>\n",
       "    <tr>\n",
       "      <th class=\"blank level0\" >&nbsp;</th>\n",
       "      <th id=\"T_364b7_level0_col0\" class=\"col_heading level0 col0\" >Description</th>\n",
       "      <th id=\"T_364b7_level0_col1\" class=\"col_heading level0 col1\" >Value</th>\n",
       "    </tr>\n",
       "  </thead>\n",
       "  <tbody>\n",
       "    <tr>\n",
       "      <th id=\"T_364b7_level0_row0\" class=\"row_heading level0 row0\" >0</th>\n",
       "      <td id=\"T_364b7_row0_col0\" class=\"data row0 col0\" >session_id</td>\n",
       "      <td id=\"T_364b7_row0_col1\" class=\"data row0 col1\" >2791</td>\n",
       "    </tr>\n",
       "    <tr>\n",
       "      <th id=\"T_364b7_level0_row1\" class=\"row_heading level0 row1\" >1</th>\n",
       "      <td id=\"T_364b7_row1_col0\" class=\"data row1 col0\" >Target</td>\n",
       "      <td id=\"T_364b7_row1_col1\" class=\"data row1 col1\" >log_SalePrice</td>\n",
       "    </tr>\n",
       "    <tr>\n",
       "      <th id=\"T_364b7_level0_row2\" class=\"row_heading level0 row2\" >2</th>\n",
       "      <td id=\"T_364b7_row2_col0\" class=\"data row2 col0\" >Original Data</td>\n",
       "      <td id=\"T_364b7_row2_col1\" class=\"data row2 col1\" >(1460, 243)</td>\n",
       "    </tr>\n",
       "    <tr>\n",
       "      <th id=\"T_364b7_level0_row3\" class=\"row_heading level0 row3\" >3</th>\n",
       "      <td id=\"T_364b7_row3_col0\" class=\"data row3 col0\" >Missing Values</td>\n",
       "      <td id=\"T_364b7_row3_col1\" class=\"data row3 col1\" >False</td>\n",
       "    </tr>\n",
       "    <tr>\n",
       "      <th id=\"T_364b7_level0_row4\" class=\"row_heading level0 row4\" >4</th>\n",
       "      <td id=\"T_364b7_row4_col0\" class=\"data row4 col0\" >Numeric Features</td>\n",
       "      <td id=\"T_364b7_row4_col1\" class=\"data row4 col1\" >69</td>\n",
       "    </tr>\n",
       "    <tr>\n",
       "      <th id=\"T_364b7_level0_row5\" class=\"row_heading level0 row5\" >5</th>\n",
       "      <td id=\"T_364b7_row5_col0\" class=\"data row5 col0\" >Categorical Features</td>\n",
       "      <td id=\"T_364b7_row5_col1\" class=\"data row5 col1\" >173</td>\n",
       "    </tr>\n",
       "    <tr>\n",
       "      <th id=\"T_364b7_level0_row6\" class=\"row_heading level0 row6\" >6</th>\n",
       "      <td id=\"T_364b7_row6_col0\" class=\"data row6 col0\" >Ordinal Features</td>\n",
       "      <td id=\"T_364b7_row6_col1\" class=\"data row6 col1\" >False</td>\n",
       "    </tr>\n",
       "    <tr>\n",
       "      <th id=\"T_364b7_level0_row7\" class=\"row_heading level0 row7\" >7</th>\n",
       "      <td id=\"T_364b7_row7_col0\" class=\"data row7 col0\" >High Cardinality Features</td>\n",
       "      <td id=\"T_364b7_row7_col1\" class=\"data row7 col1\" >False</td>\n",
       "    </tr>\n",
       "    <tr>\n",
       "      <th id=\"T_364b7_level0_row8\" class=\"row_heading level0 row8\" >8</th>\n",
       "      <td id=\"T_364b7_row8_col0\" class=\"data row8 col0\" >High Cardinality Method</td>\n",
       "      <td id=\"T_364b7_row8_col1\" class=\"data row8 col1\" >None</td>\n",
       "    </tr>\n",
       "    <tr>\n",
       "      <th id=\"T_364b7_level0_row9\" class=\"row_heading level0 row9\" >9</th>\n",
       "      <td id=\"T_364b7_row9_col0\" class=\"data row9 col0\" >Transformed Train Set</td>\n",
       "      <td id=\"T_364b7_row9_col1\" class=\"data row9 col1\" >(1021, 241)</td>\n",
       "    </tr>\n",
       "    <tr>\n",
       "      <th id=\"T_364b7_level0_row10\" class=\"row_heading level0 row10\" >10</th>\n",
       "      <td id=\"T_364b7_row10_col0\" class=\"data row10 col0\" >Transformed Test Set</td>\n",
       "      <td id=\"T_364b7_row10_col1\" class=\"data row10 col1\" >(439, 241)</td>\n",
       "    </tr>\n",
       "    <tr>\n",
       "      <th id=\"T_364b7_level0_row11\" class=\"row_heading level0 row11\" >11</th>\n",
       "      <td id=\"T_364b7_row11_col0\" class=\"data row11 col0\" >Shuffle Train-Test</td>\n",
       "      <td id=\"T_364b7_row11_col1\" class=\"data row11 col1\" >True</td>\n",
       "    </tr>\n",
       "    <tr>\n",
       "      <th id=\"T_364b7_level0_row12\" class=\"row_heading level0 row12\" >12</th>\n",
       "      <td id=\"T_364b7_row12_col0\" class=\"data row12 col0\" >Stratify Train-Test</td>\n",
       "      <td id=\"T_364b7_row12_col1\" class=\"data row12 col1\" >False</td>\n",
       "    </tr>\n",
       "    <tr>\n",
       "      <th id=\"T_364b7_level0_row13\" class=\"row_heading level0 row13\" >13</th>\n",
       "      <td id=\"T_364b7_row13_col0\" class=\"data row13 col0\" >Fold Generator</td>\n",
       "      <td id=\"T_364b7_row13_col1\" class=\"data row13 col1\" >KFold</td>\n",
       "    </tr>\n",
       "    <tr>\n",
       "      <th id=\"T_364b7_level0_row14\" class=\"row_heading level0 row14\" >14</th>\n",
       "      <td id=\"T_364b7_row14_col0\" class=\"data row14 col0\" >Fold Number</td>\n",
       "      <td id=\"T_364b7_row14_col1\" class=\"data row14 col1\" >10</td>\n",
       "    </tr>\n",
       "    <tr>\n",
       "      <th id=\"T_364b7_level0_row15\" class=\"row_heading level0 row15\" >15</th>\n",
       "      <td id=\"T_364b7_row15_col0\" class=\"data row15 col0\" >CPU Jobs</td>\n",
       "      <td id=\"T_364b7_row15_col1\" class=\"data row15 col1\" >-1</td>\n",
       "    </tr>\n",
       "    <tr>\n",
       "      <th id=\"T_364b7_level0_row16\" class=\"row_heading level0 row16\" >16</th>\n",
       "      <td id=\"T_364b7_row16_col0\" class=\"data row16 col0\" >Use GPU</td>\n",
       "      <td id=\"T_364b7_row16_col1\" class=\"data row16 col1\" >False</td>\n",
       "    </tr>\n",
       "    <tr>\n",
       "      <th id=\"T_364b7_level0_row17\" class=\"row_heading level0 row17\" >17</th>\n",
       "      <td id=\"T_364b7_row17_col0\" class=\"data row17 col0\" >Log Experiment</td>\n",
       "      <td id=\"T_364b7_row17_col1\" class=\"data row17 col1\" >False</td>\n",
       "    </tr>\n",
       "    <tr>\n",
       "      <th id=\"T_364b7_level0_row18\" class=\"row_heading level0 row18\" >18</th>\n",
       "      <td id=\"T_364b7_row18_col0\" class=\"data row18 col0\" >Experiment Name</td>\n",
       "      <td id=\"T_364b7_row18_col1\" class=\"data row18 col1\" >reg-default-name</td>\n",
       "    </tr>\n",
       "    <tr>\n",
       "      <th id=\"T_364b7_level0_row19\" class=\"row_heading level0 row19\" >19</th>\n",
       "      <td id=\"T_364b7_row19_col0\" class=\"data row19 col0\" >USI</td>\n",
       "      <td id=\"T_364b7_row19_col1\" class=\"data row19 col1\" >e8ae</td>\n",
       "    </tr>\n",
       "    <tr>\n",
       "      <th id=\"T_364b7_level0_row20\" class=\"row_heading level0 row20\" >20</th>\n",
       "      <td id=\"T_364b7_row20_col0\" class=\"data row20 col0\" >Imputation Type</td>\n",
       "      <td id=\"T_364b7_row20_col1\" class=\"data row20 col1\" >simple</td>\n",
       "    </tr>\n",
       "    <tr>\n",
       "      <th id=\"T_364b7_level0_row21\" class=\"row_heading level0 row21\" >21</th>\n",
       "      <td id=\"T_364b7_row21_col0\" class=\"data row21 col0\" >Iterative Imputation Iteration</td>\n",
       "      <td id=\"T_364b7_row21_col1\" class=\"data row21 col1\" >None</td>\n",
       "    </tr>\n",
       "    <tr>\n",
       "      <th id=\"T_364b7_level0_row22\" class=\"row_heading level0 row22\" >22</th>\n",
       "      <td id=\"T_364b7_row22_col0\" class=\"data row22 col0\" >Numeric Imputer</td>\n",
       "      <td id=\"T_364b7_row22_col1\" class=\"data row22 col1\" >mean</td>\n",
       "    </tr>\n",
       "    <tr>\n",
       "      <th id=\"T_364b7_level0_row23\" class=\"row_heading level0 row23\" >23</th>\n",
       "      <td id=\"T_364b7_row23_col0\" class=\"data row23 col0\" >Iterative Imputation Numeric Model</td>\n",
       "      <td id=\"T_364b7_row23_col1\" class=\"data row23 col1\" >None</td>\n",
       "    </tr>\n",
       "    <tr>\n",
       "      <th id=\"T_364b7_level0_row24\" class=\"row_heading level0 row24\" >24</th>\n",
       "      <td id=\"T_364b7_row24_col0\" class=\"data row24 col0\" >Categorical Imputer</td>\n",
       "      <td id=\"T_364b7_row24_col1\" class=\"data row24 col1\" >constant</td>\n",
       "    </tr>\n",
       "    <tr>\n",
       "      <th id=\"T_364b7_level0_row25\" class=\"row_heading level0 row25\" >25</th>\n",
       "      <td id=\"T_364b7_row25_col0\" class=\"data row25 col0\" >Iterative Imputation Categorical Model</td>\n",
       "      <td id=\"T_364b7_row25_col1\" class=\"data row25 col1\" >None</td>\n",
       "    </tr>\n",
       "    <tr>\n",
       "      <th id=\"T_364b7_level0_row26\" class=\"row_heading level0 row26\" >26</th>\n",
       "      <td id=\"T_364b7_row26_col0\" class=\"data row26 col0\" >Unknown Categoricals Handling</td>\n",
       "      <td id=\"T_364b7_row26_col1\" class=\"data row26 col1\" >least_frequent</td>\n",
       "    </tr>\n",
       "    <tr>\n",
       "      <th id=\"T_364b7_level0_row27\" class=\"row_heading level0 row27\" >27</th>\n",
       "      <td id=\"T_364b7_row27_col0\" class=\"data row27 col0\" >Normalize</td>\n",
       "      <td id=\"T_364b7_row27_col1\" class=\"data row27 col1\" >False</td>\n",
       "    </tr>\n",
       "    <tr>\n",
       "      <th id=\"T_364b7_level0_row28\" class=\"row_heading level0 row28\" >28</th>\n",
       "      <td id=\"T_364b7_row28_col0\" class=\"data row28 col0\" >Normalize Method</td>\n",
       "      <td id=\"T_364b7_row28_col1\" class=\"data row28 col1\" >None</td>\n",
       "    </tr>\n",
       "    <tr>\n",
       "      <th id=\"T_364b7_level0_row29\" class=\"row_heading level0 row29\" >29</th>\n",
       "      <td id=\"T_364b7_row29_col0\" class=\"data row29 col0\" >Transformation</td>\n",
       "      <td id=\"T_364b7_row29_col1\" class=\"data row29 col1\" >False</td>\n",
       "    </tr>\n",
       "    <tr>\n",
       "      <th id=\"T_364b7_level0_row30\" class=\"row_heading level0 row30\" >30</th>\n",
       "      <td id=\"T_364b7_row30_col0\" class=\"data row30 col0\" >Transformation Method</td>\n",
       "      <td id=\"T_364b7_row30_col1\" class=\"data row30 col1\" >None</td>\n",
       "    </tr>\n",
       "    <tr>\n",
       "      <th id=\"T_364b7_level0_row31\" class=\"row_heading level0 row31\" >31</th>\n",
       "      <td id=\"T_364b7_row31_col0\" class=\"data row31 col0\" >PCA</td>\n",
       "      <td id=\"T_364b7_row31_col1\" class=\"data row31 col1\" >False</td>\n",
       "    </tr>\n",
       "    <tr>\n",
       "      <th id=\"T_364b7_level0_row32\" class=\"row_heading level0 row32\" >32</th>\n",
       "      <td id=\"T_364b7_row32_col0\" class=\"data row32 col0\" >PCA Method</td>\n",
       "      <td id=\"T_364b7_row32_col1\" class=\"data row32 col1\" >None</td>\n",
       "    </tr>\n",
       "    <tr>\n",
       "      <th id=\"T_364b7_level0_row33\" class=\"row_heading level0 row33\" >33</th>\n",
       "      <td id=\"T_364b7_row33_col0\" class=\"data row33 col0\" >PCA Components</td>\n",
       "      <td id=\"T_364b7_row33_col1\" class=\"data row33 col1\" >None</td>\n",
       "    </tr>\n",
       "    <tr>\n",
       "      <th id=\"T_364b7_level0_row34\" class=\"row_heading level0 row34\" >34</th>\n",
       "      <td id=\"T_364b7_row34_col0\" class=\"data row34 col0\" >Ignore Low Variance</td>\n",
       "      <td id=\"T_364b7_row34_col1\" class=\"data row34 col1\" >False</td>\n",
       "    </tr>\n",
       "    <tr>\n",
       "      <th id=\"T_364b7_level0_row35\" class=\"row_heading level0 row35\" >35</th>\n",
       "      <td id=\"T_364b7_row35_col0\" class=\"data row35 col0\" >Combine Rare Levels</td>\n",
       "      <td id=\"T_364b7_row35_col1\" class=\"data row35 col1\" >False</td>\n",
       "    </tr>\n",
       "    <tr>\n",
       "      <th id=\"T_364b7_level0_row36\" class=\"row_heading level0 row36\" >36</th>\n",
       "      <td id=\"T_364b7_row36_col0\" class=\"data row36 col0\" >Rare Level Threshold</td>\n",
       "      <td id=\"T_364b7_row36_col1\" class=\"data row36 col1\" >None</td>\n",
       "    </tr>\n",
       "    <tr>\n",
       "      <th id=\"T_364b7_level0_row37\" class=\"row_heading level0 row37\" >37</th>\n",
       "      <td id=\"T_364b7_row37_col0\" class=\"data row37 col0\" >Numeric Binning</td>\n",
       "      <td id=\"T_364b7_row37_col1\" class=\"data row37 col1\" >False</td>\n",
       "    </tr>\n",
       "    <tr>\n",
       "      <th id=\"T_364b7_level0_row38\" class=\"row_heading level0 row38\" >38</th>\n",
       "      <td id=\"T_364b7_row38_col0\" class=\"data row38 col0\" >Remove Outliers</td>\n",
       "      <td id=\"T_364b7_row38_col1\" class=\"data row38 col1\" >False</td>\n",
       "    </tr>\n",
       "    <tr>\n",
       "      <th id=\"T_364b7_level0_row39\" class=\"row_heading level0 row39\" >39</th>\n",
       "      <td id=\"T_364b7_row39_col0\" class=\"data row39 col0\" >Outliers Threshold</td>\n",
       "      <td id=\"T_364b7_row39_col1\" class=\"data row39 col1\" >None</td>\n",
       "    </tr>\n",
       "    <tr>\n",
       "      <th id=\"T_364b7_level0_row40\" class=\"row_heading level0 row40\" >40</th>\n",
       "      <td id=\"T_364b7_row40_col0\" class=\"data row40 col0\" >Remove Multicollinearity</td>\n",
       "      <td id=\"T_364b7_row40_col1\" class=\"data row40 col1\" >False</td>\n",
       "    </tr>\n",
       "    <tr>\n",
       "      <th id=\"T_364b7_level0_row41\" class=\"row_heading level0 row41\" >41</th>\n",
       "      <td id=\"T_364b7_row41_col0\" class=\"data row41 col0\" >Multicollinearity Threshold</td>\n",
       "      <td id=\"T_364b7_row41_col1\" class=\"data row41 col1\" >None</td>\n",
       "    </tr>\n",
       "    <tr>\n",
       "      <th id=\"T_364b7_level0_row42\" class=\"row_heading level0 row42\" >42</th>\n",
       "      <td id=\"T_364b7_row42_col0\" class=\"data row42 col0\" >Remove Perfect Collinearity</td>\n",
       "      <td id=\"T_364b7_row42_col1\" class=\"data row42 col1\" >True</td>\n",
       "    </tr>\n",
       "    <tr>\n",
       "      <th id=\"T_364b7_level0_row43\" class=\"row_heading level0 row43\" >43</th>\n",
       "      <td id=\"T_364b7_row43_col0\" class=\"data row43 col0\" >Clustering</td>\n",
       "      <td id=\"T_364b7_row43_col1\" class=\"data row43 col1\" >False</td>\n",
       "    </tr>\n",
       "    <tr>\n",
       "      <th id=\"T_364b7_level0_row44\" class=\"row_heading level0 row44\" >44</th>\n",
       "      <td id=\"T_364b7_row44_col0\" class=\"data row44 col0\" >Clustering Iteration</td>\n",
       "      <td id=\"T_364b7_row44_col1\" class=\"data row44 col1\" >None</td>\n",
       "    </tr>\n",
       "    <tr>\n",
       "      <th id=\"T_364b7_level0_row45\" class=\"row_heading level0 row45\" >45</th>\n",
       "      <td id=\"T_364b7_row45_col0\" class=\"data row45 col0\" >Polynomial Features</td>\n",
       "      <td id=\"T_364b7_row45_col1\" class=\"data row45 col1\" >False</td>\n",
       "    </tr>\n",
       "    <tr>\n",
       "      <th id=\"T_364b7_level0_row46\" class=\"row_heading level0 row46\" >46</th>\n",
       "      <td id=\"T_364b7_row46_col0\" class=\"data row46 col0\" >Polynomial Degree</td>\n",
       "      <td id=\"T_364b7_row46_col1\" class=\"data row46 col1\" >None</td>\n",
       "    </tr>\n",
       "    <tr>\n",
       "      <th id=\"T_364b7_level0_row47\" class=\"row_heading level0 row47\" >47</th>\n",
       "      <td id=\"T_364b7_row47_col0\" class=\"data row47 col0\" >Trignometry Features</td>\n",
       "      <td id=\"T_364b7_row47_col1\" class=\"data row47 col1\" >False</td>\n",
       "    </tr>\n",
       "    <tr>\n",
       "      <th id=\"T_364b7_level0_row48\" class=\"row_heading level0 row48\" >48</th>\n",
       "      <td id=\"T_364b7_row48_col0\" class=\"data row48 col0\" >Polynomial Threshold</td>\n",
       "      <td id=\"T_364b7_row48_col1\" class=\"data row48 col1\" >None</td>\n",
       "    </tr>\n",
       "    <tr>\n",
       "      <th id=\"T_364b7_level0_row49\" class=\"row_heading level0 row49\" >49</th>\n",
       "      <td id=\"T_364b7_row49_col0\" class=\"data row49 col0\" >Group Features</td>\n",
       "      <td id=\"T_364b7_row49_col1\" class=\"data row49 col1\" >False</td>\n",
       "    </tr>\n",
       "    <tr>\n",
       "      <th id=\"T_364b7_level0_row50\" class=\"row_heading level0 row50\" >50</th>\n",
       "      <td id=\"T_364b7_row50_col0\" class=\"data row50 col0\" >Feature Selection</td>\n",
       "      <td id=\"T_364b7_row50_col1\" class=\"data row50 col1\" >False</td>\n",
       "    </tr>\n",
       "    <tr>\n",
       "      <th id=\"T_364b7_level0_row51\" class=\"row_heading level0 row51\" >51</th>\n",
       "      <td id=\"T_364b7_row51_col0\" class=\"data row51 col0\" >Feature Selection Method</td>\n",
       "      <td id=\"T_364b7_row51_col1\" class=\"data row51 col1\" >classic</td>\n",
       "    </tr>\n",
       "    <tr>\n",
       "      <th id=\"T_364b7_level0_row52\" class=\"row_heading level0 row52\" >52</th>\n",
       "      <td id=\"T_364b7_row52_col0\" class=\"data row52 col0\" >Features Selection Threshold</td>\n",
       "      <td id=\"T_364b7_row52_col1\" class=\"data row52 col1\" >None</td>\n",
       "    </tr>\n",
       "    <tr>\n",
       "      <th id=\"T_364b7_level0_row53\" class=\"row_heading level0 row53\" >53</th>\n",
       "      <td id=\"T_364b7_row53_col0\" class=\"data row53 col0\" >Feature Interaction</td>\n",
       "      <td id=\"T_364b7_row53_col1\" class=\"data row53 col1\" >False</td>\n",
       "    </tr>\n",
       "    <tr>\n",
       "      <th id=\"T_364b7_level0_row54\" class=\"row_heading level0 row54\" >54</th>\n",
       "      <td id=\"T_364b7_row54_col0\" class=\"data row54 col0\" >Feature Ratio</td>\n",
       "      <td id=\"T_364b7_row54_col1\" class=\"data row54 col1\" >False</td>\n",
       "    </tr>\n",
       "    <tr>\n",
       "      <th id=\"T_364b7_level0_row55\" class=\"row_heading level0 row55\" >55</th>\n",
       "      <td id=\"T_364b7_row55_col0\" class=\"data row55 col0\" >Interaction Threshold</td>\n",
       "      <td id=\"T_364b7_row55_col1\" class=\"data row55 col1\" >None</td>\n",
       "    </tr>\n",
       "    <tr>\n",
       "      <th id=\"T_364b7_level0_row56\" class=\"row_heading level0 row56\" >56</th>\n",
       "      <td id=\"T_364b7_row56_col0\" class=\"data row56 col0\" >Transform Target</td>\n",
       "      <td id=\"T_364b7_row56_col1\" class=\"data row56 col1\" >False</td>\n",
       "    </tr>\n",
       "    <tr>\n",
       "      <th id=\"T_364b7_level0_row57\" class=\"row_heading level0 row57\" >57</th>\n",
       "      <td id=\"T_364b7_row57_col0\" class=\"data row57 col0\" >Transform Target Method</td>\n",
       "      <td id=\"T_364b7_row57_col1\" class=\"data row57 col1\" >box-cox</td>\n",
       "    </tr>\n",
       "  </tbody>\n",
       "</table>\n"
      ],
      "text/plain": [
       "<pandas.io.formats.style.Styler at 0x1b607a44490>"
      ]
     },
     "metadata": {},
     "output_type": "display_data"
    }
   ],
   "source": [
    "# The train set and the target are concatenated\n",
    "log_target.name = 'log_SalePrice'\n",
    "data = pd.concat([X, log_target], axis=1)\n",
    "dumb = data.copy()\n",
    "\n",
    "# Pycaret preprocessing of the data\n",
    "_ = setup(data=data, target='log_SalePrice', session_id=2791)"
   ]
  },
  {
   "cell_type": "markdown",
   "metadata": {},
   "source": [
    "Multiple models were compared with pycaret."
   ]
  },
  {
   "cell_type": "code",
   "execution_count": 23,
   "metadata": {},
   "outputs": [
    {
     "data": {
      "text/html": [
       "<style type=\"text/css\">\n",
       "#T_db317 th {\n",
       "  text-align: left;\n",
       "}\n",
       "#T_db317_row0_col0, #T_db317_row1_col0, #T_db317_row1_col1, #T_db317_row1_col2, #T_db317_row1_col3, #T_db317_row1_col4, #T_db317_row1_col6, #T_db317_row2_col0, #T_db317_row2_col1, #T_db317_row2_col2, #T_db317_row2_col3, #T_db317_row2_col4, #T_db317_row2_col5, #T_db317_row2_col6, #T_db317_row3_col0, #T_db317_row3_col1, #T_db317_row3_col2, #T_db317_row3_col3, #T_db317_row3_col4, #T_db317_row3_col5, #T_db317_row3_col6, #T_db317_row4_col0, #T_db317_row4_col1, #T_db317_row4_col2, #T_db317_row4_col3, #T_db317_row4_col4, #T_db317_row4_col5, #T_db317_row4_col6, #T_db317_row5_col0, #T_db317_row5_col1, #T_db317_row5_col2, #T_db317_row5_col3, #T_db317_row5_col4, #T_db317_row5_col5, #T_db317_row5_col6, #T_db317_row6_col0, #T_db317_row6_col1, #T_db317_row6_col2, #T_db317_row6_col3, #T_db317_row6_col4, #T_db317_row6_col5, #T_db317_row6_col6, #T_db317_row7_col0, #T_db317_row7_col1, #T_db317_row7_col2, #T_db317_row7_col3, #T_db317_row7_col4, #T_db317_row7_col5, #T_db317_row7_col6, #T_db317_row8_col0, #T_db317_row8_col1, #T_db317_row8_col2, #T_db317_row8_col3, #T_db317_row8_col4, #T_db317_row8_col5, #T_db317_row8_col6, #T_db317_row9_col0, #T_db317_row9_col1, #T_db317_row9_col2, #T_db317_row9_col3, #T_db317_row9_col4, #T_db317_row9_col5, #T_db317_row9_col6, #T_db317_row10_col0, #T_db317_row10_col1, #T_db317_row10_col2, #T_db317_row10_col3, #T_db317_row10_col4, #T_db317_row10_col5, #T_db317_row10_col6, #T_db317_row11_col0, #T_db317_row11_col1, #T_db317_row11_col2, #T_db317_row11_col3, #T_db317_row11_col4, #T_db317_row11_col5, #T_db317_row11_col6, #T_db317_row12_col0, #T_db317_row12_col1, #T_db317_row12_col2, #T_db317_row12_col3, #T_db317_row12_col4, #T_db317_row12_col5, #T_db317_row12_col6, #T_db317_row13_col0, #T_db317_row13_col1, #T_db317_row13_col2, #T_db317_row13_col3, #T_db317_row13_col4, #T_db317_row13_col5, #T_db317_row13_col6, #T_db317_row14_col0, #T_db317_row14_col1, #T_db317_row14_col2, #T_db317_row14_col3, #T_db317_row14_col4, #T_db317_row14_col5, #T_db317_row14_col6, #T_db317_row15_col0, #T_db317_row15_col1, #T_db317_row15_col2, #T_db317_row15_col3, #T_db317_row15_col4, #T_db317_row15_col5, #T_db317_row15_col6, #T_db317_row16_col0, #T_db317_row16_col1, #T_db317_row16_col2, #T_db317_row16_col3, #T_db317_row16_col4, #T_db317_row16_col5, #T_db317_row16_col6, #T_db317_row17_col0, #T_db317_row17_col1, #T_db317_row17_col2, #T_db317_row17_col3, #T_db317_row17_col4, #T_db317_row17_col5, #T_db317_row17_col6, #T_db317_row18_col0, #T_db317_row18_col1, #T_db317_row18_col2, #T_db317_row18_col3, #T_db317_row18_col4, #T_db317_row18_col5, #T_db317_row18_col6, #T_db317_row19_col0, #T_db317_row19_col1, #T_db317_row19_col2, #T_db317_row19_col3, #T_db317_row19_col4, #T_db317_row19_col5, #T_db317_row19_col6 {\n",
       "  text-align: left;\n",
       "}\n",
       "#T_db317_row0_col1, #T_db317_row0_col2, #T_db317_row0_col3, #T_db317_row0_col4, #T_db317_row0_col5, #T_db317_row0_col6, #T_db317_row1_col5 {\n",
       "  text-align: left;\n",
       "  background-color: yellow;\n",
       "}\n",
       "#T_db317_row0_col7, #T_db317_row1_col7, #T_db317_row2_col7, #T_db317_row3_col7, #T_db317_row4_col7, #T_db317_row5_col7, #T_db317_row6_col7, #T_db317_row7_col7, #T_db317_row8_col7, #T_db317_row9_col7, #T_db317_row10_col7, #T_db317_row11_col7, #T_db317_row12_col7, #T_db317_row13_col7, #T_db317_row14_col7, #T_db317_row15_col7, #T_db317_row16_col7, #T_db317_row18_col7, #T_db317_row19_col7 {\n",
       "  text-align: left;\n",
       "  background-color: lightgrey;\n",
       "}\n",
       "#T_db317_row17_col7 {\n",
       "  text-align: left;\n",
       "  background-color: yellow;\n",
       "  background-color: lightgrey;\n",
       "}\n",
       "</style>\n",
       "<table id=\"T_db317\">\n",
       "  <thead>\n",
       "    <tr>\n",
       "      <th class=\"blank level0\" >&nbsp;</th>\n",
       "      <th id=\"T_db317_level0_col0\" class=\"col_heading level0 col0\" >Model</th>\n",
       "      <th id=\"T_db317_level0_col1\" class=\"col_heading level0 col1\" >MAE</th>\n",
       "      <th id=\"T_db317_level0_col2\" class=\"col_heading level0 col2\" >MSE</th>\n",
       "      <th id=\"T_db317_level0_col3\" class=\"col_heading level0 col3\" >RMSE</th>\n",
       "      <th id=\"T_db317_level0_col4\" class=\"col_heading level0 col4\" >R2</th>\n",
       "      <th id=\"T_db317_level0_col5\" class=\"col_heading level0 col5\" >RMSLE</th>\n",
       "      <th id=\"T_db317_level0_col6\" class=\"col_heading level0 col6\" >MAPE</th>\n",
       "      <th id=\"T_db317_level0_col7\" class=\"col_heading level0 col7\" >TT (Sec)</th>\n",
       "    </tr>\n",
       "  </thead>\n",
       "  <tbody>\n",
       "    <tr>\n",
       "      <th id=\"T_db317_level0_row0\" class=\"row_heading level0 row0\" >catboost</th>\n",
       "      <td id=\"T_db317_row0_col0\" class=\"data row0 col0\" >CatBoost Regressor</td>\n",
       "      <td id=\"T_db317_row0_col1\" class=\"data row0 col1\" >0.0825</td>\n",
       "      <td id=\"T_db317_row0_col2\" class=\"data row0 col2\" >0.0166</td>\n",
       "      <td id=\"T_db317_row0_col3\" class=\"data row0 col3\" >0.1267</td>\n",
       "      <td id=\"T_db317_row0_col4\" class=\"data row0 col4\" >0.8974</td>\n",
       "      <td id=\"T_db317_row0_col5\" class=\"data row0 col5\" >0.0098</td>\n",
       "      <td id=\"T_db317_row0_col6\" class=\"data row0 col6\" >0.0069</td>\n",
       "      <td id=\"T_db317_row0_col7\" class=\"data row0 col7\" >3.1260</td>\n",
       "    </tr>\n",
       "    <tr>\n",
       "      <th id=\"T_db317_level0_row1\" class=\"row_heading level0 row1\" >br</th>\n",
       "      <td id=\"T_db317_row1_col0\" class=\"data row1 col0\" >Bayesian Ridge</td>\n",
       "      <td id=\"T_db317_row1_col1\" class=\"data row1 col1\" >0.0859</td>\n",
       "      <td id=\"T_db317_row1_col2\" class=\"data row1 col2\" >0.0168</td>\n",
       "      <td id=\"T_db317_row1_col3\" class=\"data row1 col3\" >0.1271</td>\n",
       "      <td id=\"T_db317_row1_col4\" class=\"data row1 col4\" >0.8956</td>\n",
       "      <td id=\"T_db317_row1_col5\" class=\"data row1 col5\" >0.0098</td>\n",
       "      <td id=\"T_db317_row1_col6\" class=\"data row1 col6\" >0.0072</td>\n",
       "      <td id=\"T_db317_row1_col7\" class=\"data row1 col7\" >0.0230</td>\n",
       "    </tr>\n",
       "    <tr>\n",
       "      <th id=\"T_db317_level0_row2\" class=\"row_heading level0 row2\" >ridge</th>\n",
       "      <td id=\"T_db317_row2_col0\" class=\"data row2 col0\" >Ridge Regression</td>\n",
       "      <td id=\"T_db317_row2_col1\" class=\"data row2 col1\" >0.0894</td>\n",
       "      <td id=\"T_db317_row2_col2\" class=\"data row2 col2\" >0.0176</td>\n",
       "      <td id=\"T_db317_row2_col3\" class=\"data row2 col3\" >0.1306</td>\n",
       "      <td id=\"T_db317_row2_col4\" class=\"data row2 col4\" >0.8908</td>\n",
       "      <td id=\"T_db317_row2_col5\" class=\"data row2 col5\" >0.0101</td>\n",
       "      <td id=\"T_db317_row2_col6\" class=\"data row2 col6\" >0.0075</td>\n",
       "      <td id=\"T_db317_row2_col7\" class=\"data row2 col7\" >0.0140</td>\n",
       "    </tr>\n",
       "    <tr>\n",
       "      <th id=\"T_db317_level0_row3\" class=\"row_heading level0 row3\" >omp</th>\n",
       "      <td id=\"T_db317_row3_col0\" class=\"data row3 col0\" >Orthogonal Matching Pursuit</td>\n",
       "      <td id=\"T_db317_row3_col1\" class=\"data row3 col1\" >0.0961</td>\n",
       "      <td id=\"T_db317_row3_col2\" class=\"data row3 col2\" >0.0191</td>\n",
       "      <td id=\"T_db317_row3_col3\" class=\"data row3 col3\" >0.1362</td>\n",
       "      <td id=\"T_db317_row3_col4\" class=\"data row3 col4\" >0.8813</td>\n",
       "      <td id=\"T_db317_row3_col5\" class=\"data row3 col5\" >0.0105</td>\n",
       "      <td id=\"T_db317_row3_col6\" class=\"data row3 col6\" >0.0080</td>\n",
       "      <td id=\"T_db317_row3_col7\" class=\"data row3 col7\" >0.0110</td>\n",
       "    </tr>\n",
       "    <tr>\n",
       "      <th id=\"T_db317_level0_row4\" class=\"row_heading level0 row4\" >lightgbm</th>\n",
       "      <td id=\"T_db317_row4_col0\" class=\"data row4 col0\" >Light Gradient Boosting Machine</td>\n",
       "      <td id=\"T_db317_row4_col1\" class=\"data row4 col1\" >0.0934</td>\n",
       "      <td id=\"T_db317_row4_col2\" class=\"data row4 col2\" >0.0197</td>\n",
       "      <td id=\"T_db317_row4_col3\" class=\"data row4 col3\" >0.1387</td>\n",
       "      <td id=\"T_db317_row4_col4\" class=\"data row4 col4\" >0.8789</td>\n",
       "      <td id=\"T_db317_row4_col5\" class=\"data row4 col5\" >0.0107</td>\n",
       "      <td id=\"T_db317_row4_col6\" class=\"data row4 col6\" >0.0078</td>\n",
       "      <td id=\"T_db317_row4_col7\" class=\"data row4 col7\" >0.0590</td>\n",
       "    </tr>\n",
       "    <tr>\n",
       "      <th id=\"T_db317_level0_row5\" class=\"row_heading level0 row5\" >huber</th>\n",
       "      <td id=\"T_db317_row5_col0\" class=\"data row5 col0\" >Huber Regressor</td>\n",
       "      <td id=\"T_db317_row5_col1\" class=\"data row5 col1\" >0.0941</td>\n",
       "      <td id=\"T_db317_row5_col2\" class=\"data row5 col2\" >0.0204</td>\n",
       "      <td id=\"T_db317_row5_col3\" class=\"data row5 col3\" >0.1417</td>\n",
       "      <td id=\"T_db317_row5_col4\" class=\"data row5 col4\" >0.8739</td>\n",
       "      <td id=\"T_db317_row5_col5\" class=\"data row5 col5\" >0.0110</td>\n",
       "      <td id=\"T_db317_row5_col6\" class=\"data row5 col6\" >0.0079</td>\n",
       "      <td id=\"T_db317_row5_col7\" class=\"data row5 col7\" >0.1770</td>\n",
       "    </tr>\n",
       "    <tr>\n",
       "      <th id=\"T_db317_level0_row6\" class=\"row_heading level0 row6\" >gbr</th>\n",
       "      <td id=\"T_db317_row6_col0\" class=\"data row6 col0\" >Gradient Boosting Regressor</td>\n",
       "      <td id=\"T_db317_row6_col1\" class=\"data row6 col1\" >0.0945</td>\n",
       "      <td id=\"T_db317_row6_col2\" class=\"data row6 col2\" >0.0212</td>\n",
       "      <td id=\"T_db317_row6_col3\" class=\"data row6 col3\" >0.1436</td>\n",
       "      <td id=\"T_db317_row6_col4\" class=\"data row6 col4\" >0.8703</td>\n",
       "      <td id=\"T_db317_row6_col5\" class=\"data row6 col5\" >0.0111</td>\n",
       "      <td id=\"T_db317_row6_col6\" class=\"data row6 col6\" >0.0079</td>\n",
       "      <td id=\"T_db317_row6_col7\" class=\"data row6 col7\" >0.1620</td>\n",
       "    </tr>\n",
       "    <tr>\n",
       "      <th id=\"T_db317_level0_row7\" class=\"row_heading level0 row7\" >et</th>\n",
       "      <td id=\"T_db317_row7_col0\" class=\"data row7 col0\" >Extra Trees Regressor</td>\n",
       "      <td id=\"T_db317_row7_col1\" class=\"data row7 col1\" >0.0993</td>\n",
       "      <td id=\"T_db317_row7_col2\" class=\"data row7 col2\" >0.0220</td>\n",
       "      <td id=\"T_db317_row7_col3\" class=\"data row7 col3\" >0.1464</td>\n",
       "      <td id=\"T_db317_row7_col4\" class=\"data row7 col4\" >0.8663</td>\n",
       "      <td id=\"T_db317_row7_col5\" class=\"data row7 col5\" >0.0114</td>\n",
       "      <td id=\"T_db317_row7_col6\" class=\"data row7 col6\" >0.0083</td>\n",
       "      <td id=\"T_db317_row7_col7\" class=\"data row7 col7\" >0.4010</td>\n",
       "    </tr>\n",
       "    <tr>\n",
       "      <th id=\"T_db317_level0_row8\" class=\"row_heading level0 row8\" >rf</th>\n",
       "      <td id=\"T_db317_row8_col0\" class=\"data row8 col0\" >Random Forest Regressor</td>\n",
       "      <td id=\"T_db317_row8_col1\" class=\"data row8 col1\" >0.1006</td>\n",
       "      <td id=\"T_db317_row8_col2\" class=\"data row8 col2\" >0.0234</td>\n",
       "      <td id=\"T_db317_row8_col3\" class=\"data row8 col3\" >0.1509</td>\n",
       "      <td id=\"T_db317_row8_col4\" class=\"data row8 col4\" >0.8570</td>\n",
       "      <td id=\"T_db317_row8_col5\" class=\"data row8 col5\" >0.0117</td>\n",
       "      <td id=\"T_db317_row8_col6\" class=\"data row8 col6\" >0.0084</td>\n",
       "      <td id=\"T_db317_row8_col7\" class=\"data row8 col7\" >0.4210</td>\n",
       "    </tr>\n",
       "    <tr>\n",
       "      <th id=\"T_db317_level0_row9\" class=\"row_heading level0 row9\" >xgboost</th>\n",
       "      <td id=\"T_db317_row9_col0\" class=\"data row9 col0\" >Extreme Gradient Boosting</td>\n",
       "      <td id=\"T_db317_row9_col1\" class=\"data row9 col1\" >0.1037</td>\n",
       "      <td id=\"T_db317_row9_col2\" class=\"data row9 col2\" >0.0251</td>\n",
       "      <td id=\"T_db317_row9_col3\" class=\"data row9 col3\" >0.1570</td>\n",
       "      <td id=\"T_db317_row9_col4\" class=\"data row9 col4\" >0.8449</td>\n",
       "      <td id=\"T_db317_row9_col5\" class=\"data row9 col5\" >0.0121</td>\n",
       "      <td id=\"T_db317_row9_col6\" class=\"data row9 col6\" >0.0087</td>\n",
       "      <td id=\"T_db317_row9_col7\" class=\"data row9 col7\" >0.3420</td>\n",
       "    </tr>\n",
       "    <tr>\n",
       "      <th id=\"T_db317_level0_row10\" class=\"row_heading level0 row10\" >ada</th>\n",
       "      <td id=\"T_db317_row10_col0\" class=\"data row10 col0\" >AdaBoost Regressor</td>\n",
       "      <td id=\"T_db317_row10_col1\" class=\"data row10 col1\" >0.1333</td>\n",
       "      <td id=\"T_db317_row10_col2\" class=\"data row10 col2\" >0.0328</td>\n",
       "      <td id=\"T_db317_row10_col3\" class=\"data row10 col3\" >0.1802</td>\n",
       "      <td id=\"T_db317_row10_col4\" class=\"data row10 col4\" >0.7977</td>\n",
       "      <td id=\"T_db317_row10_col5\" class=\"data row10 col5\" >0.0139</td>\n",
       "      <td id=\"T_db317_row10_col6\" class=\"data row10 col6\" >0.0111</td>\n",
       "      <td id=\"T_db317_row10_col7\" class=\"data row10 col7\" >0.1000</td>\n",
       "    </tr>\n",
       "    <tr>\n",
       "      <th id=\"T_db317_level0_row11\" class=\"row_heading level0 row11\" >par</th>\n",
       "      <td id=\"T_db317_row11_col0\" class=\"data row11 col0\" >Passive Aggressive Regressor</td>\n",
       "      <td id=\"T_db317_row11_col1\" class=\"data row11 col1\" >0.1340</td>\n",
       "      <td id=\"T_db317_row11_col2\" class=\"data row11 col2\" >0.0325</td>\n",
       "      <td id=\"T_db317_row11_col3\" class=\"data row11 col3\" >0.1794</td>\n",
       "      <td id=\"T_db317_row11_col4\" class=\"data row11 col4\" >0.7967</td>\n",
       "      <td id=\"T_db317_row11_col5\" class=\"data row11 col5\" >0.0138</td>\n",
       "      <td id=\"T_db317_row11_col6\" class=\"data row11 col6\" >0.0112</td>\n",
       "      <td id=\"T_db317_row11_col7\" class=\"data row11 col7\" >0.0140</td>\n",
       "    </tr>\n",
       "    <tr>\n",
       "      <th id=\"T_db317_level0_row12\" class=\"row_heading level0 row12\" >knn</th>\n",
       "      <td id=\"T_db317_row12_col0\" class=\"data row12 col0\" >K Neighbors Regressor</td>\n",
       "      <td id=\"T_db317_row12_col1\" class=\"data row12 col1\" >0.1272</td>\n",
       "      <td id=\"T_db317_row12_col2\" class=\"data row12 col2\" >0.0345</td>\n",
       "      <td id=\"T_db317_row12_col3\" class=\"data row12 col3\" >0.1846</td>\n",
       "      <td id=\"T_db317_row12_col4\" class=\"data row12 col4\" >0.7876</td>\n",
       "      <td id=\"T_db317_row12_col5\" class=\"data row12 col5\" >0.0143</td>\n",
       "      <td id=\"T_db317_row12_col6\" class=\"data row12 col6\" >0.0106</td>\n",
       "      <td id=\"T_db317_row12_col7\" class=\"data row12 col7\" >0.0310</td>\n",
       "    </tr>\n",
       "    <tr>\n",
       "      <th id=\"T_db317_level0_row13\" class=\"row_heading level0 row13\" >dt</th>\n",
       "      <td id=\"T_db317_row13_col0\" class=\"data row13 col0\" >Decision Tree Regressor</td>\n",
       "      <td id=\"T_db317_row13_col1\" class=\"data row13 col1\" >0.1629</td>\n",
       "      <td id=\"T_db317_row13_col2\" class=\"data row13 col2\" >0.0565</td>\n",
       "      <td id=\"T_db317_row13_col3\" class=\"data row13 col3\" >0.2354</td>\n",
       "      <td id=\"T_db317_row13_col4\" class=\"data row13 col4\" >0.6511</td>\n",
       "      <td id=\"T_db317_row13_col5\" class=\"data row13 col5\" >0.0183</td>\n",
       "      <td id=\"T_db317_row13_col6\" class=\"data row13 col6\" >0.0137</td>\n",
       "      <td id=\"T_db317_row13_col7\" class=\"data row13 col7\" >0.0200</td>\n",
       "    </tr>\n",
       "    <tr>\n",
       "      <th id=\"T_db317_level0_row14\" class=\"row_heading level0 row14\" >lasso</th>\n",
       "      <td id=\"T_db317_row14_col0\" class=\"data row14 col0\" >Lasso Regression</td>\n",
       "      <td id=\"T_db317_row14_col1\" class=\"data row14 col1\" >0.3153</td>\n",
       "      <td id=\"T_db317_row14_col2\" class=\"data row14 col2\" >0.1670</td>\n",
       "      <td id=\"T_db317_row14_col3\" class=\"data row14 col3\" >0.4074</td>\n",
       "      <td id=\"T_db317_row14_col4\" class=\"data row14 col4\" >-0.0179</td>\n",
       "      <td id=\"T_db317_row14_col5\" class=\"data row14 col5\" >0.0313</td>\n",
       "      <td id=\"T_db317_row14_col6\" class=\"data row14 col6\" >0.0263</td>\n",
       "      <td id=\"T_db317_row14_col7\" class=\"data row14 col7\" >0.3000</td>\n",
       "    </tr>\n",
       "    <tr>\n",
       "      <th id=\"T_db317_level0_row15\" class=\"row_heading level0 row15\" >en</th>\n",
       "      <td id=\"T_db317_row15_col0\" class=\"data row15 col0\" >Elastic Net</td>\n",
       "      <td id=\"T_db317_row15_col1\" class=\"data row15 col1\" >0.3153</td>\n",
       "      <td id=\"T_db317_row15_col2\" class=\"data row15 col2\" >0.1670</td>\n",
       "      <td id=\"T_db317_row15_col3\" class=\"data row15 col3\" >0.4074</td>\n",
       "      <td id=\"T_db317_row15_col4\" class=\"data row15 col4\" >-0.0179</td>\n",
       "      <td id=\"T_db317_row15_col5\" class=\"data row15 col5\" >0.0313</td>\n",
       "      <td id=\"T_db317_row15_col6\" class=\"data row15 col6\" >0.0263</td>\n",
       "      <td id=\"T_db317_row15_col7\" class=\"data row15 col7\" >0.0110</td>\n",
       "    </tr>\n",
       "    <tr>\n",
       "      <th id=\"T_db317_level0_row16\" class=\"row_heading level0 row16\" >llar</th>\n",
       "      <td id=\"T_db317_row16_col0\" class=\"data row16 col0\" >Lasso Least Angle Regression</td>\n",
       "      <td id=\"T_db317_row16_col1\" class=\"data row16 col1\" >0.3153</td>\n",
       "      <td id=\"T_db317_row16_col2\" class=\"data row16 col2\" >0.1670</td>\n",
       "      <td id=\"T_db317_row16_col3\" class=\"data row16 col3\" >0.4074</td>\n",
       "      <td id=\"T_db317_row16_col4\" class=\"data row16 col4\" >-0.0179</td>\n",
       "      <td id=\"T_db317_row16_col5\" class=\"data row16 col5\" >0.0313</td>\n",
       "      <td id=\"T_db317_row16_col6\" class=\"data row16 col6\" >0.0263</td>\n",
       "      <td id=\"T_db317_row16_col7\" class=\"data row16 col7\" >0.0100</td>\n",
       "    </tr>\n",
       "    <tr>\n",
       "      <th id=\"T_db317_level0_row17\" class=\"row_heading level0 row17\" >dummy</th>\n",
       "      <td id=\"T_db317_row17_col0\" class=\"data row17 col0\" >Dummy Regressor</td>\n",
       "      <td id=\"T_db317_row17_col1\" class=\"data row17 col1\" >0.3153</td>\n",
       "      <td id=\"T_db317_row17_col2\" class=\"data row17 col2\" >0.1670</td>\n",
       "      <td id=\"T_db317_row17_col3\" class=\"data row17 col3\" >0.4074</td>\n",
       "      <td id=\"T_db317_row17_col4\" class=\"data row17 col4\" >-0.0179</td>\n",
       "      <td id=\"T_db317_row17_col5\" class=\"data row17 col5\" >0.0313</td>\n",
       "      <td id=\"T_db317_row17_col6\" class=\"data row17 col6\" >0.0263</td>\n",
       "      <td id=\"T_db317_row17_col7\" class=\"data row17 col7\" >0.0080</td>\n",
       "    </tr>\n",
       "    <tr>\n",
       "      <th id=\"T_db317_level0_row18\" class=\"row_heading level0 row18\" >lr</th>\n",
       "      <td id=\"T_db317_row18_col0\" class=\"data row18 col0\" >Linear Regression</td>\n",
       "      <td id=\"T_db317_row18_col1\" class=\"data row18 col1\" >2.4765</td>\n",
       "      <td id=\"T_db317_row18_col2\" class=\"data row18 col2\" >683.5680</td>\n",
       "      <td id=\"T_db317_row18_col3\" class=\"data row18 col3\" >16.0843</td>\n",
       "      <td id=\"T_db317_row18_col4\" class=\"data row18 col4\" >-4613.9658</td>\n",
       "      <td id=\"T_db317_row18_col5\" class=\"data row18 col5\" >0.2187</td>\n",
       "      <td id=\"T_db317_row18_col6\" class=\"data row18 col6\" >0.2043</td>\n",
       "      <td id=\"T_db317_row18_col7\" class=\"data row18 col7\" >1.0470</td>\n",
       "    </tr>\n",
       "    <tr>\n",
       "      <th id=\"T_db317_level0_row19\" class=\"row_heading level0 row19\" >lar</th>\n",
       "      <td id=\"T_db317_row19_col0\" class=\"data row19 col0\" >Least Angle Regression</td>\n",
       "      <td id=\"T_db317_row19_col1\" class=\"data row19 col1\" >1540043175638965467639699210240.0000</td>\n",
       "      <td id=\"T_db317_row19_col2\" class=\"data row19 col2\" >1090799310743832333865003985315422177037693875342297035238801408.0000</td>\n",
       "      <td id=\"T_db317_row19_col3\" class=\"data row19 col3\" >10444139769249216825965674496000.0000</td>\n",
       "      <td id=\"T_db317_row19_col4\" class=\"data row19 col4\" >-7265510250415871411169678989045000836551830419550206064261595136.0000</td>\n",
       "      <td id=\"T_db317_row19_col5\" class=\"data row19 col5\" >33.8749</td>\n",
       "      <td id=\"T_db317_row19_col6\" class=\"data row19 col6\" >123668028286946398393302253568.0000</td>\n",
       "      <td id=\"T_db317_row19_col7\" class=\"data row19 col7\" >0.0400</td>\n",
       "    </tr>\n",
       "  </tbody>\n",
       "</table>\n"
      ],
      "text/plain": [
       "<pandas.io.formats.style.Styler at 0x1b6079aaa60>"
      ]
     },
     "metadata": {},
     "output_type": "display_data"
    }
   ],
   "source": [
    "models = compare_models()"
   ]
  },
  {
   "cell_type": "markdown",
   "metadata": {},
   "source": [
    "**CatBoost Regressor** was the best model. <br>\n",
    "Parameters used by Pycaret are used as a reference for choosing the range of the parameters in the parameter optimization section."
   ]
  },
  {
   "cell_type": "code",
   "execution_count": 24,
   "metadata": {},
   "outputs": [
    {
     "data": {
      "text/html": [
       "<div>\n",
       "<style scoped>\n",
       "    .dataframe tbody tr th:only-of-type {\n",
       "        vertical-align: middle;\n",
       "    }\n",
       "\n",
       "    .dataframe tbody tr th {\n",
       "        vertical-align: top;\n",
       "    }\n",
       "\n",
       "    .dataframe thead th {\n",
       "        text-align: right;\n",
       "    }\n",
       "</style>\n",
       "<table border=\"1\" class=\"dataframe\">\n",
       "  <thead>\n",
       "    <tr style=\"text-align: right;\">\n",
       "      <th></th>\n",
       "      <th>Base Parameters</th>\n",
       "    </tr>\n",
       "  </thead>\n",
       "  <tbody>\n",
       "    <tr>\n",
       "      <th>iterations</th>\n",
       "      <td>1000</td>\n",
       "    </tr>\n",
       "    <tr>\n",
       "      <th>learning_rate</th>\n",
       "      <td>0.041078</td>\n",
       "    </tr>\n",
       "    <tr>\n",
       "      <th>depth</th>\n",
       "      <td>6</td>\n",
       "    </tr>\n",
       "    <tr>\n",
       "      <th>l2_leaf_reg</th>\n",
       "      <td>3</td>\n",
       "    </tr>\n",
       "    <tr>\n",
       "      <th>eval_metric</th>\n",
       "      <td>RMSE</td>\n",
       "    </tr>\n",
       "    <tr>\n",
       "      <th>random_seed</th>\n",
       "      <td>2791</td>\n",
       "    </tr>\n",
       "  </tbody>\n",
       "</table>\n",
       "</div>"
      ],
      "text/plain": [
       "              Base Parameters\n",
       "iterations               1000\n",
       "learning_rate        0.041078\n",
       "depth                       6\n",
       "l2_leaf_reg                 3\n",
       "eval_metric              RMSE\n",
       "random_seed              2791"
      ]
     },
     "execution_count": 24,
     "metadata": {},
     "output_type": "execute_result"
    }
   ],
   "source": [
    "base_parameters = pd.DataFrame(models.get_all_params()).T.loc[['iterations', 'learning_rate', 'depth', 'l2_leaf_reg', 'eval_metric', 'random_seed']]\n",
    "base_parameters.columns = ['Base Parameters']\n",
    "base_parameters"
   ]
  },
  {
   "cell_type": "markdown",
   "metadata": {},
   "source": [
    "# Model"
   ]
  },
  {
   "cell_type": "markdown",
   "metadata": {},
   "source": [
    "**CatBoost Regressor is the chosen one**"
   ]
  },
  {
   "cell_type": "markdown",
   "metadata": {},
   "source": [
    "# Hyperparameter Optimization"
   ]
  },
  {
   "cell_type": "markdown",
   "metadata": {},
   "source": [
    "Optuna is used to find the best parameters for the model. <br>\n",
    "Cross validation with 10 folds is utilized. <br>\n",
    "The metric used is the MSRE."
   ]
  },
  {
   "cell_type": "markdown",
   "metadata": {},
   "source": [
    "<table>\n",
    "\n",
    "  <tr>\n",
    "    <th>eval_metric</th>\n",
    "    <td>RMSE</td>\n",
    "  </tr>\n",
    "\n",
    "  <tr>\n",
    "    <th>random_seed</th>\n",
    "    <td>2791</td>\n",
    "  </tr>\n",
    "\n",
    "  <tr>\n",
    "    <th>verbose</th>\n",
    "    <td>0</td>\n",
    "  </tr>\n",
    "\n",
    "  <tr>\n",
    "    <th>iterations</th>\n",
    "    <td>[500, 800]</td>\n",
    "  </tr>\n",
    "\n",
    "  <tr>\n",
    "    <th>iterations</th>\n",
    "    <td>[500, 800]</td>\n",
    "  </tr>\n",
    "\n",
    "  <tr>\n",
    "    <th>learning_rate</th>\n",
    "    <td>[1e-1, 0.9]</td>\n",
    "  </tr>\n",
    "\n",
    "  <tr>\n",
    "    <th>depth</th>\n",
    "    <td>[2, 9]</td>\n",
    "  </tr>\n",
    "\n",
    "  <tr>\n",
    "    <th>l2_leaf_reg</th>\n",
    "    <td>[1e-2, 1e2]</td>\n",
    "  </tr>\n",
    "  \n",
    "</table>"
   ]
  },
  {
   "cell_type": "code",
   "execution_count": 25,
   "metadata": {},
   "outputs": [],
   "source": [
    "# A 10 fold object is created\n",
    "kf = KFold(n_splits=10, shuffle=True, random_state=2)\n",
    "\n",
    "\n",
    "# The function to optimize the model is defined\n",
    "def catboost_optimizer(trial):\n",
    "    \n",
    "    # Parameters to optimize\n",
    "    iterations = trial.suggest_int('iterations', 500, 800)\n",
    "    learning_rate = trial.suggest_float('learning_rate', 1e-1, 0.9)\n",
    "    depth = trial.suggest_int('depth', 2, 9)\n",
    "    l2_leaf_reg = trial.suggest_float('l2_leaf_reg', 1e-2, 1e2)\n",
    "    \n",
    "    # CatBoostRegressor object is created\n",
    "    model = CatBoostRegressor(iterations=iterations, learning_rate=learning_rate, depth=depth, l2_leaf_reg=l2_leaf_reg, eval_metric='RMSE', random_seed=2791, verbose=0)\n",
    "    model.fit(X, log_target)\n",
    "    \n",
    "    # RMSE of the 10 folds is calculated\n",
    "    cv_scores = np.exp(np.sqrt(-cross_val_score(model, X, log_target, scoring='neg_mean_squared_error', cv=kf)))\n",
    "    \n",
    "    # RMSE is returned and we seek to minimize it.\n",
    "    return np.mean(cv_scores)"
   ]
  },
  {
   "cell_type": "code",
   "execution_count": 26,
   "metadata": {},
   "outputs": [
    {
     "name": "stderr",
     "output_type": "stream",
     "text": [
      "\u001b[32m[I 2022-09-15 16:53:41,781]\u001b[0m A new study created in memory with name: no-name-f2248083-c20c-4b3d-8bea-4aeb5614fd5a\u001b[0m\n",
      "\u001b[32m[I 2022-09-15 16:54:03,564]\u001b[0m Trial 0 finished with value: 1.1611572632544256 and parameters: {'iterations': 515, 'learning_rate': 0.8516662673334249, 'depth': 5, 'l2_leaf_reg': 7.505106072834856}. Best is trial 0 with value: 1.1611572632544256.\u001b[0m\n",
      "\u001b[32m[I 2022-09-15 16:54:15,278]\u001b[0m Trial 1 finished with value: 1.1366102275593453 and parameters: {'iterations': 706, 'learning_rate': 0.5361113559496403, 'depth': 2, 'l2_leaf_reg': 45.68064816496137}. Best is trial 1 with value: 1.1366102275593453.\u001b[0m\n",
      "\u001b[32m[I 2022-09-15 16:54:25,813]\u001b[0m Trial 2 finished with value: 1.1355199559252611 and parameters: {'iterations': 709, 'learning_rate': 0.38574121264718, 'depth': 2, 'l2_leaf_reg': 71.521049722377}. Best is trial 2 with value: 1.1355199559252611.\u001b[0m\n",
      "\u001b[32m[I 2022-09-15 16:55:25,783]\u001b[0m Trial 3 finished with value: 1.1369521365293207 and parameters: {'iterations': 601, 'learning_rate': 0.2354388021664245, 'depth': 8, 'l2_leaf_reg': 76.67067139255255}. Best is trial 2 with value: 1.1355199559252611.\u001b[0m\n",
      "\u001b[32m[I 2022-09-15 16:56:45,931]\u001b[0m Trial 4 finished with value: 1.1367168601481155 and parameters: {'iterations': 733, 'learning_rate': 0.1468309306757635, 'depth': 8, 'l2_leaf_reg': 34.5217208914608}. Best is trial 2 with value: 1.1355199559252611.\u001b[0m\n",
      "\u001b[32m[I 2022-09-15 16:57:20,669]\u001b[0m Trial 5 finished with value: 1.1324344576041896 and parameters: {'iterations': 602, 'learning_rate': 0.16247445292494175, 'depth': 6, 'l2_leaf_reg': 54.01359489749865}. Best is trial 5 with value: 1.1324344576041896.\u001b[0m\n",
      "\u001b[32m[I 2022-09-15 16:59:24,824]\u001b[0m Trial 6 finished with value: 1.137983672310071 and parameters: {'iterations': 729, 'learning_rate': 0.20625704763047636, 'depth': 9, 'l2_leaf_reg': 73.71043405294057}. Best is trial 5 with value: 1.1324344576041896.\u001b[0m\n",
      "\u001b[32m[I 2022-09-15 16:59:33,369]\u001b[0m Trial 7 finished with value: 1.1350340204286253 and parameters: {'iterations': 605, 'learning_rate': 0.3823530697330647, 'depth': 2, 'l2_leaf_reg': 74.23136859859002}. Best is trial 5 with value: 1.1324344576041896.\u001b[0m\n",
      "\u001b[32m[I 2022-09-15 16:59:45,103]\u001b[0m Trial 8 finished with value: 1.1480486691343406 and parameters: {'iterations': 570, 'learning_rate': 0.616026283063708, 'depth': 3, 'l2_leaf_reg': 10.683822762534364}. Best is trial 5 with value: 1.1324344576041896.\u001b[0m\n",
      "\u001b[32m[I 2022-09-15 17:01:03,215]\u001b[0m Trial 9 finished with value: 1.1576036885337633 and parameters: {'iterations': 758, 'learning_rate': 0.852105498034072, 'depth': 8, 'l2_leaf_reg': 34.809028391381894}. Best is trial 5 with value: 1.1324344576041896.\u001b[0m\n",
      "\u001b[32m[I 2022-09-15 17:01:26,134]\u001b[0m Trial 10 finished with value: 1.1431844812889689 and parameters: {'iterations': 661, 'learning_rate': 0.682248468837463, 'depth': 5, 'l2_leaf_reg': 99.47102803300172}. Best is trial 5 with value: 1.1324344576041896.\u001b[0m\n",
      "\u001b[32m[I 2022-09-15 17:01:54,214]\u001b[0m Trial 11 finished with value: 1.137907182309003 and parameters: {'iterations': 615, 'learning_rate': 0.3584397250344048, 'depth': 6, 'l2_leaf_reg': 60.0894914725808}. Best is trial 5 with value: 1.1324344576041896.\u001b[0m\n",
      "\u001b[32m[I 2022-09-15 17:02:07,889]\u001b[0m Trial 12 finished with value: 1.1354746015240722 and parameters: {'iterations': 543, 'learning_rate': 0.3634349726860603, 'depth': 4, 'l2_leaf_reg': 95.39720860187218}. Best is trial 5 with value: 1.1324344576041896.\u001b[0m\n",
      "\u001b[32m[I 2022-09-15 17:02:38,059]\u001b[0m Trial 13 finished with value: 1.1344967246936786 and parameters: {'iterations': 652, 'learning_rate': 0.111512117202209, 'depth': 6, 'l2_leaf_reg': 58.40678187698498}. Best is trial 5 with value: 1.1324344576041896.\u001b[0m\n",
      "\u001b[32m[I 2022-09-15 17:03:10,820]\u001b[0m Trial 14 finished with value: 1.1335923825539442 and parameters: {'iterations': 648, 'learning_rate': 0.10447393624891078, 'depth': 6, 'l2_leaf_reg': 45.24927538147777}. Best is trial 5 with value: 1.1324344576041896.\u001b[0m\n",
      "\u001b[32m[I 2022-09-15 17:03:54,527]\u001b[0m Trial 15 finished with value: 1.1380949407768526 and parameters: {'iterations': 667, 'learning_rate': 0.2549915728524566, 'depth': 7, 'l2_leaf_reg': 27.296850081707976}. Best is trial 5 with value: 1.1324344576041896.\u001b[0m\n",
      "\u001b[32m[I 2022-09-15 17:04:14,641]\u001b[0m Trial 16 finished with value: 1.1319701149471535 and parameters: {'iterations': 797, 'learning_rate': 0.12449421135467825, 'depth': 4, 'l2_leaf_reg': 48.3055565863816}. Best is trial 16 with value: 1.1319701149471535.\u001b[0m\n",
      "\u001b[32m[I 2022-09-15 17:04:34,748]\u001b[0m Trial 17 finished with value: 1.1349283483648898 and parameters: {'iterations': 798, 'learning_rate': 0.2930630101844659, 'depth': 4, 'l2_leaf_reg': 20.744761543275875}. Best is trial 16 with value: 1.1319701149471535.\u001b[0m\n",
      "\u001b[32m[I 2022-09-15 17:04:54,598]\u001b[0m Trial 18 finished with value: 1.1313658804753672 and parameters: {'iterations': 792, 'learning_rate': 0.18440422369699605, 'depth': 4, 'l2_leaf_reg': 56.24917410735931}. Best is trial 18 with value: 1.1313658804753672.\u001b[0m\n",
      "\u001b[32m[I 2022-09-15 17:05:14,428]\u001b[0m Trial 19 finished with value: 1.1359690930429251 and parameters: {'iterations': 792, 'learning_rate': 0.4618854976658093, 'depth': 4, 'l2_leaf_reg': 65.16815257556414}. Best is trial 18 with value: 1.1313658804753672.\u001b[0m\n",
      "\u001b[32m[I 2022-09-15 17:05:29,390]\u001b[0m Trial 20 finished with value: 1.1338387537141108 and parameters: {'iterations': 770, 'learning_rate': 0.2873776432372683, 'depth': 3, 'l2_leaf_reg': 85.34901072113378}. Best is trial 18 with value: 1.1313658804753672.\u001b[0m\n",
      "\u001b[32m[I 2022-09-15 17:05:54,332]\u001b[0m Trial 21 finished with value: 1.133198445363184 and parameters: {'iterations': 759, 'learning_rate': 0.18103927861068883, 'depth': 5, 'l2_leaf_reg': 51.24903965801881}. Best is trial 18 with value: 1.1313658804753672.\u001b[0m\n",
      "\u001b[32m[I 2022-09-15 17:06:07,645]\u001b[0m Trial 22 finished with value: 1.1328560932008709 and parameters: {'iterations': 686, 'learning_rate': 0.17966743711892638, 'depth': 3, 'l2_leaf_reg': 51.41193467685377}. Best is trial 18 with value: 1.1313658804753672.\u001b[0m\n",
      "\u001b[32m[I 2022-09-15 17:06:22,175]\u001b[0m Trial 23 finished with value: 1.133926665029891 and parameters: {'iterations': 558, 'learning_rate': 0.10727918480617997, 'depth': 4, 'l2_leaf_reg': 39.12151040906902}. Best is trial 18 with value: 1.1313658804753672.\u001b[0m\n",
      "\u001b[32m[I 2022-09-15 17:07:01,546]\u001b[0m Trial 24 finished with value: 1.1359756787142654 and parameters: {'iterations': 624, 'learning_rate': 0.26555041203826213, 'depth': 7, 'l2_leaf_reg': 58.06143102641114}. Best is trial 18 with value: 1.1313658804753672.\u001b[0m\n",
      "\u001b[32m[I 2022-09-15 17:07:27,604]\u001b[0m Trial 25 finished with value: 1.14228772838807 and parameters: {'iterations': 778, 'learning_rate': 0.483213615699663, 'depth': 5, 'l2_leaf_reg': 25.335743088335278}. Best is trial 18 with value: 1.1313658804753672.\u001b[0m\n",
      "\u001b[32m[I 2022-09-15 17:08:04,291]\u001b[0m Trial 26 finished with value: 1.1362059645823663 and parameters: {'iterations': 583, 'learning_rate': 0.1869332200963368, 'depth': 7, 'l2_leaf_reg': 65.78290317198329}. Best is trial 18 with value: 1.1313658804753672.\u001b[0m\n",
      "\u001b[32m[I 2022-09-15 17:08:18,629]\u001b[0m Trial 27 finished with value: 1.1354268867873623 and parameters: {'iterations': 739, 'learning_rate': 0.32566402624939395, 'depth': 3, 'l2_leaf_reg': 42.07244617154724}. Best is trial 18 with value: 1.1313658804753672.\u001b[0m\n",
      "\u001b[32m[I 2022-09-15 17:08:34,523]\u001b[0m Trial 28 finished with value: 1.1368007868907297 and parameters: {'iterations': 633, 'learning_rate': 0.4174461052236921, 'depth': 4, 'l2_leaf_reg': 85.29493938580097}. Best is trial 18 with value: 1.1313658804753672.\u001b[0m\n",
      "\u001b[32m[I 2022-09-15 17:08:57,124]\u001b[0m Trial 29 finished with value: 1.1451221632964317 and parameters: {'iterations': 503, 'learning_rate': 0.6837642787308573, 'depth': 6, 'l2_leaf_reg': 52.45888481915404}. Best is trial 18 with value: 1.1313658804753672.\u001b[0m\n",
      "\u001b[32m[I 2022-09-15 17:09:14,983]\u001b[0m Trial 30 finished with value: 1.1549815636504093 and parameters: {'iterations': 533, 'learning_rate': 0.7728544510945734, 'depth': 5, 'l2_leaf_reg': 15.02403858122365}. Best is trial 18 with value: 1.1313658804753672.\u001b[0m\n",
      "\u001b[32m[I 2022-09-15 17:09:27,758]\u001b[0m Trial 31 finished with value: 1.1351841141306467 and parameters: {'iterations': 686, 'learning_rate': 0.15638806337304068, 'depth': 3, 'l2_leaf_reg': 53.35141923591695}. Best is trial 18 with value: 1.1313658804753672.\u001b[0m\n",
      "\u001b[32m[I 2022-09-15 17:09:40,956]\u001b[0m Trial 32 finished with value: 1.1332765704425602 and parameters: {'iterations': 702, 'learning_rate': 0.2178810488372576, 'depth': 3, 'l2_leaf_reg': 47.19759949570884}. Best is trial 18 with value: 1.1313658804753672.\u001b[0m\n",
      "\u001b[32m[I 2022-09-15 17:09:50,229]\u001b[0m Trial 33 finished with value: 1.138568337789036 and parameters: {'iterations': 684, 'learning_rate': 0.16230165784085693, 'depth': 2, 'l2_leaf_reg': 66.10697814117655}. Best is trial 18 with value: 1.1313658804753672.\u001b[0m\n",
      "\u001b[32m[I 2022-09-15 17:10:10,031]\u001b[0m Trial 34 finished with value: 1.1321948280066505 and parameters: {'iterations': 800, 'learning_rate': 0.22110354850632405, 'depth': 4, 'l2_leaf_reg': 36.19070646329555}. Best is trial 18 with value: 1.1313658804753672.\u001b[0m\n",
      "\u001b[32m[I 2022-09-15 17:10:36,149]\u001b[0m Trial 35 finished with value: 1.1343944645447934 and parameters: {'iterations': 783, 'learning_rate': 0.233616057213697, 'depth': 5, 'l2_leaf_reg': 36.8455173486873}. Best is trial 18 with value: 1.1313658804753672.\u001b[0m\n",
      "\u001b[32m[I 2022-09-15 17:10:55,250]\u001b[0m Trial 36 finished with value: 1.152593092389706 and parameters: {'iterations': 747, 'learning_rate': 0.5458081969006643, 'depth': 4, 'l2_leaf_reg': 0.4277325387178408}. Best is trial 18 with value: 1.1313658804753672.\u001b[0m\n",
      "\u001b[32m[I 2022-09-15 17:11:23,011]\u001b[0m Trial 37 finished with value: 1.1348639389560482 and parameters: {'iterations': 800, 'learning_rate': 0.31434502092414585, 'depth': 5, 'l2_leaf_reg': 30.357695821051365}. Best is trial 18 with value: 1.1313658804753672.\u001b[0m\n",
      "\u001b[32m[I 2022-09-15 17:11:41,473]\u001b[0m Trial 38 finished with value: 1.131315888013249 and parameters: {'iterations': 715, 'learning_rate': 0.14288672233243777, 'depth': 4, 'l2_leaf_reg': 40.61926265514069}. Best is trial 38 with value: 1.131315888013249.\u001b[0m\n",
      "\u001b[32m[I 2022-09-15 17:12:00,037]\u001b[0m Trial 39 finished with value: 1.1330467961625286 and parameters: {'iterations': 719, 'learning_rate': 0.1291779164788558, 'depth': 4, 'l2_leaf_reg': 42.40219179923125}. Best is trial 38 with value: 1.131315888013249.\u001b[0m\n",
      "\u001b[32m[I 2022-09-15 17:12:10,959]\u001b[0m Trial 40 finished with value: 1.1345259443377045 and parameters: {'iterations': 766, 'learning_rate': 0.2243710608428151, 'depth': 2, 'l2_leaf_reg': 30.23573354744215}. Best is trial 38 with value: 1.131315888013249.\u001b[0m\n",
      "\u001b[32m[I 2022-09-15 17:12:31,497]\u001b[0m Trial 41 finished with value: 1.13141525599398 and parameters: {'iterations': 781, 'learning_rate': 0.15031813788399406, 'depth': 4, 'l2_leaf_reg': 44.37422455543017}. Best is trial 38 with value: 1.131315888013249.\u001b[0m\n",
      "\u001b[32m[I 2022-09-15 17:12:50,697]\u001b[0m Trial 42 finished with value: 1.1316692158094301 and parameters: {'iterations': 750, 'learning_rate': 0.1404574088704158, 'depth': 4, 'l2_leaf_reg': 40.867793360077734}. Best is trial 38 with value: 1.131315888013249.\u001b[0m\n",
      "\u001b[32m[I 2022-09-15 17:13:05,915]\u001b[0m Trial 43 finished with value: 1.1331461298490126 and parameters: {'iterations': 749, 'learning_rate': 0.1410352585097891, 'depth': 3, 'l2_leaf_reg': 46.176848898252324}. Best is trial 38 with value: 1.131315888013249.\u001b[0m\n",
      "\u001b[32m[I 2022-09-15 17:13:25,444]\u001b[0m Trial 44 finished with value: 1.1311475251933818 and parameters: {'iterations': 777, 'learning_rate': 0.19797168292774323, 'depth': 4, 'l2_leaf_reg': 40.65480460680185}. Best is trial 44 with value: 1.1311475251933818.\u001b[0m\n",
      "\u001b[32m[I 2022-09-15 17:13:51,099]\u001b[0m Trial 45 finished with value: 1.1308459745295336 and parameters: {'iterations': 776, 'learning_rate': 0.19055242492797472, 'depth': 5, 'l2_leaf_reg': 40.22214558984126}. Best is trial 45 with value: 1.1308459745295336.\u001b[0m\n",
      "\u001b[32m[I 2022-09-15 17:14:15,386]\u001b[0m Trial 46 finished with value: 1.130900245335946 and parameters: {'iterations': 727, 'learning_rate': 0.19924618592806742, 'depth': 5, 'l2_leaf_reg': 33.47775545168832}. Best is trial 45 with value: 1.1308459745295336.\u001b[0m\n",
      "\u001b[32m[I 2022-09-15 17:14:40,089]\u001b[0m Trial 47 finished with value: 1.1342489737457626 and parameters: {'iterations': 718, 'learning_rate': 0.2773558056780705, 'depth': 5, 'l2_leaf_reg': 29.03018461035267}. Best is trial 45 with value: 1.1308459745295336.\u001b[0m\n",
      "\u001b[32m[I 2022-09-15 17:15:05,560]\u001b[0m Trial 48 finished with value: 1.136400326959119 and parameters: {'iterations': 730, 'learning_rate': 0.33676684289932435, 'depth': 5, 'l2_leaf_reg': 21.215842321580663}. Best is trial 45 with value: 1.1308459745295336.\u001b[0m\n",
      "\u001b[32m[I 2022-09-15 17:15:38,391]\u001b[0m Trial 49 finished with value: 1.1333002681772981 and parameters: {'iterations': 706, 'learning_rate': 0.1966074482671041, 'depth': 6, 'l2_leaf_reg': 34.409619932513024}. Best is trial 45 with value: 1.1308459745295336.\u001b[0m\n",
      "\u001b[32m[I 2022-09-15 17:16:06,997]\u001b[0m Trial 50 finished with value: 1.1392362943776724 and parameters: {'iterations': 762, 'learning_rate': 0.4147810278158618, 'depth': 5, 'l2_leaf_reg': 33.450393585349154}. Best is trial 45 with value: 1.1308459745295336.\u001b[0m\n",
      "\u001b[32m[I 2022-09-15 17:16:27,281]\u001b[0m Trial 51 finished with value: 1.131157403172918 and parameters: {'iterations': 778, 'learning_rate': 0.23798407607682087, 'depth': 4, 'l2_leaf_reg': 44.128085582825626}. Best is trial 45 with value: 1.1308459745295336.\u001b[0m\n",
      "\u001b[32m[I 2022-09-15 17:16:48,216]\u001b[0m Trial 52 finished with value: 1.1350846331333486 and parameters: {'iterations': 783, 'learning_rate': 0.25477638648708, 'depth': 4, 'l2_leaf_reg': 59.19161513451997}. Best is trial 45 with value: 1.1308459745295336.\u001b[0m\n",
      "\u001b[32m[I 2022-09-15 17:17:15,007]\u001b[0m Trial 53 finished with value: 1.1574507296747703 and parameters: {'iterations': 774, 'learning_rate': 0.8954664242896881, 'depth': 5, 'l2_leaf_reg': 24.114617377827592}. Best is trial 45 with value: 1.1308459745295336.\u001b[0m\n",
      "\u001b[32m[I 2022-09-15 17:17:29,389]\u001b[0m Trial 54 finished with value: 1.1341085265567135 and parameters: {'iterations': 737, 'learning_rate': 0.24480098496358732, 'depth': 3, 'l2_leaf_reg': 55.114127611027094}. Best is trial 45 with value: 1.1308459745295336.\u001b[0m\n",
      "\u001b[32m[I 2022-09-15 17:18:05,233]\u001b[0m Trial 55 finished with value: 1.1322401139587712 and parameters: {'iterations': 755, 'learning_rate': 0.1939004890239312, 'depth': 6, 'l2_leaf_reg': 38.480261961088615}. Best is trial 45 with value: 1.1308459745295336.\u001b[0m\n",
      "\u001b[32m[I 2022-09-15 17:20:08,554]\u001b[0m Trial 56 finished with value: 1.135036389680894 and parameters: {'iterations': 721, 'learning_rate': 0.10435275564556087, 'depth': 9, 'l2_leaf_reg': 46.465349365857264}. Best is trial 45 with value: 1.1308459745295336.\u001b[0m\n",
      "\u001b[32m[I 2022-09-15 17:20:29,591]\u001b[0m Trial 57 finished with value: 1.1328597849142692 and parameters: {'iterations': 787, 'learning_rate': 0.29081153064288573, 'depth': 4, 'l2_leaf_reg': 31.521039312276844}. Best is trial 45 with value: 1.1308459745295336.\u001b[0m\n",
      "\u001b[32m[I 2022-09-15 17:20:56,767]\u001b[0m Trial 58 finished with value: 1.131192490023793 and parameters: {'iterations': 769, 'learning_rate': 0.1754288027889575, 'depth': 5, 'l2_leaf_reg': 49.28667527679899}. Best is trial 45 with value: 1.1308459745295336.\u001b[0m\n",
      "\u001b[32m[I 2022-09-15 17:21:23,803]\u001b[0m Trial 59 finished with value: 1.1326593106133545 and parameters: {'iterations': 744, 'learning_rate': 0.20113844422524296, 'depth': 5, 'l2_leaf_reg': 49.463438037490825}. Best is trial 45 with value: 1.1308459745295336.\u001b[0m\n",
      "\u001b[32m[I 2022-09-15 17:21:59,876]\u001b[0m Trial 60 finished with value: 1.1317606927801576 and parameters: {'iterations': 769, 'learning_rate': 0.16485494277891805, 'depth': 6, 'l2_leaf_reg': 39.566790436763974}. Best is trial 45 with value: 1.1308459745295336.\u001b[0m\n",
      "\u001b[32m[I 2022-09-15 17:22:26,154]\u001b[0m Trial 61 finished with value: 1.133715480463119 and parameters: {'iterations': 773, 'learning_rate': 0.17385863887066325, 'depth': 5, 'l2_leaf_reg': 63.0801881912855}. Best is trial 45 with value: 1.1308459745295336.\u001b[0m\n",
      "\u001b[32m[I 2022-09-15 17:22:46,448]\u001b[0m Trial 62 finished with value: 1.1322328056846112 and parameters: {'iterations': 789, 'learning_rate': 0.24114016400645027, 'depth': 4, 'l2_leaf_reg': 42.723315020881344}. Best is trial 45 with value: 1.1308459745295336.\u001b[0m\n",
      "\u001b[32m[I 2022-09-15 17:23:08,346]\u001b[0m Trial 63 finished with value: 1.1313954107540405 and parameters: {'iterations': 760, 'learning_rate': 0.20948415693719727, 'depth': 4, 'l2_leaf_reg': 55.85976791442404}. Best is trial 45 with value: 1.1308459745295336.\u001b[0m\n",
      "\u001b[32m[I 2022-09-15 17:23:35,406]\u001b[0m Trial 64 finished with value: 1.1328877762214193 and parameters: {'iterations': 789, 'learning_rate': 0.12602164954891615, 'depth': 5, 'l2_leaf_reg': 49.59770854512777}. Best is trial 45 with value: 1.1308459745295336.\u001b[0m\n",
      "\u001b[32m[I 2022-09-15 17:23:55,237]\u001b[0m Trial 65 finished with value: 1.1328355829205887 and parameters: {'iterations': 728, 'learning_rate': 0.3061993762287508, 'depth': 4, 'l2_leaf_reg': 43.89296487578655}. Best is trial 45 with value: 1.1308459745295336.\u001b[0m\n",
      "\u001b[32m[I 2022-09-15 17:24:08,985]\u001b[0m Trial 66 finished with value: 1.134909344831032 and parameters: {'iterations': 674, 'learning_rate': 0.10027266038943841, 'depth': 3, 'l2_leaf_reg': 34.637034158797654}. Best is trial 45 with value: 1.1308459745295336.\u001b[0m\n",
      "\u001b[32m[I 2022-09-15 17:24:32,859]\u001b[0m Trial 67 finished with value: 1.1349225292940264 and parameters: {'iterations': 694, 'learning_rate': 0.2729568433370625, 'depth': 5, 'l2_leaf_reg': 56.185727912970904}. Best is trial 45 with value: 1.1308459745295336.\u001b[0m\n",
      "\u001b[32m[I 2022-09-15 17:25:11,801]\u001b[0m Trial 68 finished with value: 1.1330323241145712 and parameters: {'iterations': 775, 'learning_rate': 0.17366540871558542, 'depth': 6, 'l2_leaf_reg': 70.83302178563831}. Best is trial 45 with value: 1.1308459745295336.\u001b[0m\n",
      "\u001b[32m[I 2022-09-15 17:25:31,831]\u001b[0m Trial 69 finished with value: 1.1356767103731091 and parameters: {'iterations': 759, 'learning_rate': 0.3446800744748142, 'depth': 4, 'l2_leaf_reg': 26.300441391527855}. Best is trial 45 with value: 1.1308459745295336.\u001b[0m\n",
      "\u001b[32m[I 2022-09-15 17:25:58,384]\u001b[0m Trial 70 finished with value: 1.14224501060992 and parameters: {'iterations': 738, 'learning_rate': 0.5743231782946921, 'depth': 5, 'l2_leaf_reg': 38.459113706341526}. Best is trial 45 with value: 1.1308459745295336.\u001b[0m\n",
      "\u001b[32m[I 2022-09-15 17:26:19,127]\u001b[0m Trial 71 finished with value: 1.132605981775574 and parameters: {'iterations': 766, 'learning_rate': 0.1988212337863372, 'depth': 4, 'l2_leaf_reg': 60.80467762611613}. Best is trial 45 with value: 1.1308459745295336.\u001b[0m\n",
      "\u001b[32m[I 2022-09-15 17:26:39,407]\u001b[0m Trial 72 finished with value: 1.1333968681180822 and parameters: {'iterations': 754, 'learning_rate': 0.222981580249628, 'depth': 4, 'l2_leaf_reg': 54.055557408263866}. Best is trial 45 with value: 1.1308459745295336.\u001b[0m\n",
      "\u001b[32m[I 2022-09-15 17:26:55,669]\u001b[0m Trial 73 finished with value: 1.1331877264003891 and parameters: {'iterations': 792, 'learning_rate': 0.25523647996501675, 'depth': 3, 'l2_leaf_reg': 50.81001001375796}. Best is trial 45 with value: 1.1308459745295336.\u001b[0m\n",
      "\u001b[32m[I 2022-09-15 17:27:15,922]\u001b[0m Trial 74 finished with value: 1.1338950522191964 and parameters: {'iterations': 763, 'learning_rate': 0.2138916373490689, 'depth': 4, 'l2_leaf_reg': 69.9992447907036}. Best is trial 45 with value: 1.1308459745295336.\u001b[0m\n",
      "\u001b[32m[I 2022-09-15 17:27:36,496]\u001b[0m Trial 75 finished with value: 1.1327932176269404 and parameters: {'iterations': 778, 'learning_rate': 0.14938146239312372, 'depth': 4, 'l2_leaf_reg': 48.08039118486245}. Best is trial 45 with value: 1.1308459745295336.\u001b[0m\n",
      "\u001b[32m[I 2022-09-15 17:27:51,805]\u001b[0m Trial 76 finished with value: 1.1332393372285536 and parameters: {'iterations': 741, 'learning_rate': 0.18356282899500526, 'depth': 3, 'l2_leaf_reg': 40.86802662914195}. Best is trial 45 with value: 1.1308459745295336.\u001b[0m\n",
      "\u001b[32m[I 2022-09-15 17:28:16,806]\u001b[0m Trial 77 finished with value: 1.135280377227445 and parameters: {'iterations': 793, 'learning_rate': 0.3715229614155553, 'depth': 4, 'l2_leaf_reg': 45.69283383292856}. Best is trial 45 with value: 1.1308459745295336.\u001b[0m\n",
      "\u001b[32m[I 2022-09-15 17:28:47,260]\u001b[0m Trial 78 finished with value: 1.131582932357715 and parameters: {'iterations': 755, 'learning_rate': 0.12598802388793695, 'depth': 5, 'l2_leaf_reg': 37.288599610796524}. Best is trial 45 with value: 1.1308459745295336.\u001b[0m\n",
      "\u001b[32m[I 2022-09-15 17:29:15,889]\u001b[0m Trial 79 finished with value: 1.1328721017238952 and parameters: {'iterations': 712, 'learning_rate': 0.1559149111441, 'depth': 5, 'l2_leaf_reg': 57.56725112659043}. Best is trial 45 with value: 1.1308459745295336.\u001b[0m\n",
      "\u001b[32m[I 2022-09-15 17:30:03,973]\u001b[0m Trial 80 finished with value: 1.1363151364525046 and parameters: {'iterations': 728, 'learning_rate': 0.23446891631039302, 'depth': 7, 'l2_leaf_reg': 61.200608717658504}. Best is trial 45 with value: 1.1308459745295336.\u001b[0m\n",
      "\u001b[32m[I 2022-09-15 17:30:25,836]\u001b[0m Trial 81 finished with value: 1.1326594074877687 and parameters: {'iterations': 782, 'learning_rate': 0.14867243750698347, 'depth': 4, 'l2_leaf_reg': 43.6540564078746}. Best is trial 45 with value: 1.1308459745295336.\u001b[0m\n",
      "\u001b[32m[I 2022-09-15 17:30:44,961]\u001b[0m Trial 82 finished with value: 1.1328411018535836 and parameters: {'iterations': 772, 'learning_rate': 0.20585106007951187, 'depth': 4, 'l2_leaf_reg': 52.590656690480486}. Best is trial 45 with value: 1.1308459745295336.\u001b[0m\n",
      "\u001b[32m[I 2022-09-15 17:31:05,981]\u001b[0m Trial 83 finished with value: 1.131427911951962 and parameters: {'iterations': 784, 'learning_rate': 0.1765907734808436, 'depth': 4, 'l2_leaf_reg': 44.39143561122912}. Best is trial 45 with value: 1.1308459745295336.\u001b[0m\n",
      "\u001b[32m[I 2022-09-15 17:31:26,602]\u001b[0m Trial 84 finished with value: 1.132570208684467 and parameters: {'iterations': 800, 'learning_rate': 0.12590878726621038, 'depth': 4, 'l2_leaf_reg': 47.355112234892744}. Best is trial 45 with value: 1.1308459745295336.\u001b[0m\n",
      "\u001b[32m[I 2022-09-15 17:31:52,514]\u001b[0m Trial 85 finished with value: 1.146943073147893 and parameters: {'iterations': 765, 'learning_rate': 0.7133820770195209, 'depth': 5, 'l2_leaf_reg': 33.36476703369727}. Best is trial 45 with value: 1.1308459745295336.\u001b[0m\n",
      "\u001b[32m[I 2022-09-15 17:32:07,100]\u001b[0m Trial 86 finished with value: 1.132103781778309 and parameters: {'iterations': 747, 'learning_rate': 0.213119705801855, 'depth': 3, 'l2_leaf_reg': 50.91572975293471}. Best is trial 45 with value: 1.1308459745295336.\u001b[0m\n",
      "\u001b[32m[I 2022-09-15 17:33:28,284]\u001b[0m Trial 87 finished with value: 1.138957750098191 and parameters: {'iterations': 779, 'learning_rate': 0.2578217154674994, 'depth': 8, 'l2_leaf_reg': 40.952583003487575}. Best is trial 45 with value: 1.1308459745295336.\u001b[0m\n",
      "\u001b[32m[I 2022-09-15 17:33:54,756]\u001b[0m Trial 88 finished with value: 1.1320556813875728 and parameters: {'iterations': 758, 'learning_rate': 0.15997358868906672, 'depth': 5, 'l2_leaf_reg': 31.772617928658892}. Best is trial 45 with value: 1.1308459745295336.\u001b[0m\n",
      "\u001b[32m[I 2022-09-15 17:34:17,819]\u001b[0m Trial 89 finished with value: 1.1317736965017726 and parameters: {'iterations': 792, 'learning_rate': 0.14614959099694236, 'depth': 4, 'l2_leaf_reg': 35.64950233662228}. Best is trial 45 with value: 1.1308459745295336.\u001b[0m\n",
      "\u001b[32m[I 2022-09-15 17:34:34,518]\u001b[0m Trial 90 finished with value: 1.131826425244573 and parameters: {'iterations': 642, 'learning_rate': 0.1922567819799428, 'depth': 4, 'l2_leaf_reg': 27.979351505050026}. Best is trial 45 with value: 1.1308459745295336.\u001b[0m\n",
      "\u001b[32m[I 2022-09-15 17:34:55,356]\u001b[0m Trial 91 finished with value: 1.1323288238310207 and parameters: {'iterations': 782, 'learning_rate': 0.17636709488542396, 'depth': 4, 'l2_leaf_reg': 44.20721024094295}. Best is trial 45 with value: 1.1308459745295336.\u001b[0m\n",
      "\u001b[32m[I 2022-09-15 17:35:15,828]\u001b[0m Trial 92 finished with value: 1.132285561329048 and parameters: {'iterations': 771, 'learning_rate': 0.11702456313802505, 'depth': 4, 'l2_leaf_reg': 45.430995401433535}. Best is trial 45 with value: 1.1308459745295336.\u001b[0m\n",
      "\u001b[32m[I 2022-09-15 17:35:36,748]\u001b[0m Trial 93 finished with value: 1.1329023355990788 and parameters: {'iterations': 782, 'learning_rate': 0.18075807683165826, 'depth': 4, 'l2_leaf_reg': 55.8213180082747}. Best is trial 45 with value: 1.1308459745295336.\u001b[0m\n",
      "\u001b[32m[I 2022-09-15 17:35:52,486]\u001b[0m Trial 94 finished with value: 1.1334888135094403 and parameters: {'iterations': 786, 'learning_rate': 0.23683156470858377, 'depth': 3, 'l2_leaf_reg': 40.32391186571303}. Best is trial 45 with value: 1.1308459745295336.\u001b[0m\n",
      "\u001b[32m[I 2022-09-15 17:36:21,815]\u001b[0m Trial 95 finished with value: 1.1326338340808308 and parameters: {'iterations': 794, 'learning_rate': 0.13441214755035105, 'depth': 5, 'l2_leaf_reg': 48.47014127400032}. Best is trial 45 with value: 1.1308459745295336.\u001b[0m\n",
      "\u001b[32m[I 2022-09-15 17:36:42,546]\u001b[0m Trial 96 finished with value: 1.1328379081924118 and parameters: {'iterations': 767, 'learning_rate': 0.2767570278230578, 'depth': 4, 'l2_leaf_reg': 37.36881819264084}. Best is trial 45 with value: 1.1308459745295336.\u001b[0m\n",
      "\u001b[32m[I 2022-09-15 17:36:58,090]\u001b[0m Trial 97 finished with value: 1.132738612712368 and parameters: {'iterations': 777, 'learning_rate': 0.16782317727758067, 'depth': 3, 'l2_leaf_reg': 42.71584049339861}. Best is trial 45 with value: 1.1308459745295336.\u001b[0m\n",
      "\u001b[32m[I 2022-09-15 17:37:24,922]\u001b[0m Trial 98 finished with value: 1.1343196679743897 and parameters: {'iterations': 760, 'learning_rate': 0.21247656328729198, 'depth': 5, 'l2_leaf_reg': 64.06387798454782}. Best is trial 45 with value: 1.1308459745295336.\u001b[0m\n",
      "\u001b[32m[I 2022-09-15 17:37:51,590]\u001b[0m Trial 99 finished with value: 1.1351138669907805 and parameters: {'iterations': 752, 'learning_rate': 0.2994545119992578, 'depth': 5, 'l2_leaf_reg': 23.153980285106968}. Best is trial 45 with value: 1.1308459745295336.\u001b[0m\n"
     ]
    }
   ],
   "source": [
    "# We set optuna to minimize the RMSE\n",
    "study = optuna.create_study(direction='minimize')\n",
    "study.optimize(catboost_optimizer, n_trials=100)"
   ]
  },
  {
   "cell_type": "code",
   "execution_count": 27,
   "metadata": {},
   "outputs": [
    {
     "data": {
      "application/vnd.plotly.v1+json": {
       "config": {
        "plotlyServerURL": "https://plot.ly"
       },
       "data": [
        {
         "mode": "markers",
         "name": "Objective Value",
         "type": "scatter",
         "x": [
          0,
          1,
          2,
          3,
          4,
          5,
          6,
          7,
          8,
          9,
          10,
          11,
          12,
          13,
          14,
          15,
          16,
          17,
          18,
          19,
          20,
          21,
          22,
          23,
          24,
          25,
          26,
          27,
          28,
          29,
          30,
          31,
          32,
          33,
          34,
          35,
          36,
          37,
          38,
          39,
          40,
          41,
          42,
          43,
          44,
          45,
          46,
          47,
          48,
          49,
          50,
          51,
          52,
          53,
          54,
          55,
          56,
          57,
          58,
          59,
          60,
          61,
          62,
          63,
          64,
          65,
          66,
          67,
          68,
          69,
          70,
          71,
          72,
          73,
          74,
          75,
          76,
          77,
          78,
          79,
          80,
          81,
          82,
          83,
          84,
          85,
          86,
          87,
          88,
          89,
          90,
          91,
          92,
          93,
          94,
          95,
          96,
          97,
          98,
          99
         ],
         "y": [
          1.1611572632544256,
          1.1366102275593453,
          1.1355199559252611,
          1.1369521365293207,
          1.1367168601481155,
          1.1324344576041896,
          1.137983672310071,
          1.1350340204286253,
          1.1480486691343406,
          1.1576036885337633,
          1.1431844812889689,
          1.137907182309003,
          1.1354746015240722,
          1.1344967246936786,
          1.1335923825539442,
          1.1380949407768526,
          1.1319701149471535,
          1.1349283483648898,
          1.1313658804753672,
          1.1359690930429251,
          1.1338387537141108,
          1.133198445363184,
          1.1328560932008709,
          1.133926665029891,
          1.1359756787142654,
          1.14228772838807,
          1.1362059645823663,
          1.1354268867873623,
          1.1368007868907297,
          1.1451221632964317,
          1.1549815636504093,
          1.1351841141306467,
          1.1332765704425602,
          1.138568337789036,
          1.1321948280066505,
          1.1343944645447934,
          1.152593092389706,
          1.1348639389560482,
          1.131315888013249,
          1.1330467961625286,
          1.1345259443377045,
          1.13141525599398,
          1.1316692158094301,
          1.1331461298490126,
          1.1311475251933818,
          1.1308459745295336,
          1.130900245335946,
          1.1342489737457626,
          1.136400326959119,
          1.1333002681772981,
          1.1392362943776724,
          1.131157403172918,
          1.1350846331333486,
          1.1574507296747703,
          1.1341085265567135,
          1.1322401139587712,
          1.135036389680894,
          1.1328597849142692,
          1.131192490023793,
          1.1326593106133545,
          1.1317606927801576,
          1.133715480463119,
          1.1322328056846112,
          1.1313954107540405,
          1.1328877762214193,
          1.1328355829205887,
          1.134909344831032,
          1.1349225292940264,
          1.1330323241145712,
          1.1356767103731091,
          1.14224501060992,
          1.132605981775574,
          1.1333968681180822,
          1.1331877264003891,
          1.1338950522191964,
          1.1327932176269404,
          1.1332393372285536,
          1.135280377227445,
          1.131582932357715,
          1.1328721017238952,
          1.1363151364525046,
          1.1326594074877687,
          1.1328411018535836,
          1.131427911951962,
          1.132570208684467,
          1.146943073147893,
          1.132103781778309,
          1.138957750098191,
          1.1320556813875728,
          1.1317736965017726,
          1.131826425244573,
          1.1323288238310207,
          1.132285561329048,
          1.1329023355990788,
          1.1334888135094403,
          1.1326338340808308,
          1.1328379081924118,
          1.132738612712368,
          1.1343196679743897,
          1.1351138669907805
         ]
        },
        {
         "name": "Best Value",
         "type": "scatter",
         "x": [
          0,
          1,
          2,
          3,
          4,
          5,
          6,
          7,
          8,
          9,
          10,
          11,
          12,
          13,
          14,
          15,
          16,
          17,
          18,
          19,
          20,
          21,
          22,
          23,
          24,
          25,
          26,
          27,
          28,
          29,
          30,
          31,
          32,
          33,
          34,
          35,
          36,
          37,
          38,
          39,
          40,
          41,
          42,
          43,
          44,
          45,
          46,
          47,
          48,
          49,
          50,
          51,
          52,
          53,
          54,
          55,
          56,
          57,
          58,
          59,
          60,
          61,
          62,
          63,
          64,
          65,
          66,
          67,
          68,
          69,
          70,
          71,
          72,
          73,
          74,
          75,
          76,
          77,
          78,
          79,
          80,
          81,
          82,
          83,
          84,
          85,
          86,
          87,
          88,
          89,
          90,
          91,
          92,
          93,
          94,
          95,
          96,
          97,
          98,
          99
         ],
         "y": [
          1.1611572632544256,
          1.1366102275593453,
          1.1355199559252611,
          1.1355199559252611,
          1.1355199559252611,
          1.1324344576041896,
          1.1324344576041896,
          1.1324344576041896,
          1.1324344576041896,
          1.1324344576041896,
          1.1324344576041896,
          1.1324344576041896,
          1.1324344576041896,
          1.1324344576041896,
          1.1324344576041896,
          1.1324344576041896,
          1.1319701149471535,
          1.1319701149471535,
          1.1313658804753672,
          1.1313658804753672,
          1.1313658804753672,
          1.1313658804753672,
          1.1313658804753672,
          1.1313658804753672,
          1.1313658804753672,
          1.1313658804753672,
          1.1313658804753672,
          1.1313658804753672,
          1.1313658804753672,
          1.1313658804753672,
          1.1313658804753672,
          1.1313658804753672,
          1.1313658804753672,
          1.1313658804753672,
          1.1313658804753672,
          1.1313658804753672,
          1.1313658804753672,
          1.1313658804753672,
          1.131315888013249,
          1.131315888013249,
          1.131315888013249,
          1.131315888013249,
          1.131315888013249,
          1.131315888013249,
          1.1311475251933818,
          1.1308459745295336,
          1.1308459745295336,
          1.1308459745295336,
          1.1308459745295336,
          1.1308459745295336,
          1.1308459745295336,
          1.1308459745295336,
          1.1308459745295336,
          1.1308459745295336,
          1.1308459745295336,
          1.1308459745295336,
          1.1308459745295336,
          1.1308459745295336,
          1.1308459745295336,
          1.1308459745295336,
          1.1308459745295336,
          1.1308459745295336,
          1.1308459745295336,
          1.1308459745295336,
          1.1308459745295336,
          1.1308459745295336,
          1.1308459745295336,
          1.1308459745295336,
          1.1308459745295336,
          1.1308459745295336,
          1.1308459745295336,
          1.1308459745295336,
          1.1308459745295336,
          1.1308459745295336,
          1.1308459745295336,
          1.1308459745295336,
          1.1308459745295336,
          1.1308459745295336,
          1.1308459745295336,
          1.1308459745295336,
          1.1308459745295336,
          1.1308459745295336,
          1.1308459745295336,
          1.1308459745295336,
          1.1308459745295336,
          1.1308459745295336,
          1.1308459745295336,
          1.1308459745295336,
          1.1308459745295336,
          1.1308459745295336,
          1.1308459745295336,
          1.1308459745295336,
          1.1308459745295336,
          1.1308459745295336,
          1.1308459745295336,
          1.1308459745295336,
          1.1308459745295336,
          1.1308459745295336,
          1.1308459745295336,
          1.1308459745295336
         ]
        }
       ],
       "layout": {
        "template": {
         "data": {
          "bar": [
           {
            "error_x": {
             "color": "#2a3f5f"
            },
            "error_y": {
             "color": "#2a3f5f"
            },
            "marker": {
             "line": {
              "color": "#E5ECF6",
              "width": 0.5
             },
             "pattern": {
              "fillmode": "overlay",
              "size": 10,
              "solidity": 0.2
             }
            },
            "type": "bar"
           }
          ],
          "barpolar": [
           {
            "marker": {
             "line": {
              "color": "#E5ECF6",
              "width": 0.5
             },
             "pattern": {
              "fillmode": "overlay",
              "size": 10,
              "solidity": 0.2
             }
            },
            "type": "barpolar"
           }
          ],
          "carpet": [
           {
            "aaxis": {
             "endlinecolor": "#2a3f5f",
             "gridcolor": "white",
             "linecolor": "white",
             "minorgridcolor": "white",
             "startlinecolor": "#2a3f5f"
            },
            "baxis": {
             "endlinecolor": "#2a3f5f",
             "gridcolor": "white",
             "linecolor": "white",
             "minorgridcolor": "white",
             "startlinecolor": "#2a3f5f"
            },
            "type": "carpet"
           }
          ],
          "choropleth": [
           {
            "colorbar": {
             "outlinewidth": 0,
             "ticks": ""
            },
            "type": "choropleth"
           }
          ],
          "contour": [
           {
            "colorbar": {
             "outlinewidth": 0,
             "ticks": ""
            },
            "colorscale": [
             [
              0,
              "#0d0887"
             ],
             [
              0.1111111111111111,
              "#46039f"
             ],
             [
              0.2222222222222222,
              "#7201a8"
             ],
             [
              0.3333333333333333,
              "#9c179e"
             ],
             [
              0.4444444444444444,
              "#bd3786"
             ],
             [
              0.5555555555555556,
              "#d8576b"
             ],
             [
              0.6666666666666666,
              "#ed7953"
             ],
             [
              0.7777777777777778,
              "#fb9f3a"
             ],
             [
              0.8888888888888888,
              "#fdca26"
             ],
             [
              1,
              "#f0f921"
             ]
            ],
            "type": "contour"
           }
          ],
          "contourcarpet": [
           {
            "colorbar": {
             "outlinewidth": 0,
             "ticks": ""
            },
            "type": "contourcarpet"
           }
          ],
          "heatmap": [
           {
            "colorbar": {
             "outlinewidth": 0,
             "ticks": ""
            },
            "colorscale": [
             [
              0,
              "#0d0887"
             ],
             [
              0.1111111111111111,
              "#46039f"
             ],
             [
              0.2222222222222222,
              "#7201a8"
             ],
             [
              0.3333333333333333,
              "#9c179e"
             ],
             [
              0.4444444444444444,
              "#bd3786"
             ],
             [
              0.5555555555555556,
              "#d8576b"
             ],
             [
              0.6666666666666666,
              "#ed7953"
             ],
             [
              0.7777777777777778,
              "#fb9f3a"
             ],
             [
              0.8888888888888888,
              "#fdca26"
             ],
             [
              1,
              "#f0f921"
             ]
            ],
            "type": "heatmap"
           }
          ],
          "heatmapgl": [
           {
            "colorbar": {
             "outlinewidth": 0,
             "ticks": ""
            },
            "colorscale": [
             [
              0,
              "#0d0887"
             ],
             [
              0.1111111111111111,
              "#46039f"
             ],
             [
              0.2222222222222222,
              "#7201a8"
             ],
             [
              0.3333333333333333,
              "#9c179e"
             ],
             [
              0.4444444444444444,
              "#bd3786"
             ],
             [
              0.5555555555555556,
              "#d8576b"
             ],
             [
              0.6666666666666666,
              "#ed7953"
             ],
             [
              0.7777777777777778,
              "#fb9f3a"
             ],
             [
              0.8888888888888888,
              "#fdca26"
             ],
             [
              1,
              "#f0f921"
             ]
            ],
            "type": "heatmapgl"
           }
          ],
          "histogram": [
           {
            "marker": {
             "pattern": {
              "fillmode": "overlay",
              "size": 10,
              "solidity": 0.2
             }
            },
            "type": "histogram"
           }
          ],
          "histogram2d": [
           {
            "colorbar": {
             "outlinewidth": 0,
             "ticks": ""
            },
            "colorscale": [
             [
              0,
              "#0d0887"
             ],
             [
              0.1111111111111111,
              "#46039f"
             ],
             [
              0.2222222222222222,
              "#7201a8"
             ],
             [
              0.3333333333333333,
              "#9c179e"
             ],
             [
              0.4444444444444444,
              "#bd3786"
             ],
             [
              0.5555555555555556,
              "#d8576b"
             ],
             [
              0.6666666666666666,
              "#ed7953"
             ],
             [
              0.7777777777777778,
              "#fb9f3a"
             ],
             [
              0.8888888888888888,
              "#fdca26"
             ],
             [
              1,
              "#f0f921"
             ]
            ],
            "type": "histogram2d"
           }
          ],
          "histogram2dcontour": [
           {
            "colorbar": {
             "outlinewidth": 0,
             "ticks": ""
            },
            "colorscale": [
             [
              0,
              "#0d0887"
             ],
             [
              0.1111111111111111,
              "#46039f"
             ],
             [
              0.2222222222222222,
              "#7201a8"
             ],
             [
              0.3333333333333333,
              "#9c179e"
             ],
             [
              0.4444444444444444,
              "#bd3786"
             ],
             [
              0.5555555555555556,
              "#d8576b"
             ],
             [
              0.6666666666666666,
              "#ed7953"
             ],
             [
              0.7777777777777778,
              "#fb9f3a"
             ],
             [
              0.8888888888888888,
              "#fdca26"
             ],
             [
              1,
              "#f0f921"
             ]
            ],
            "type": "histogram2dcontour"
           }
          ],
          "mesh3d": [
           {
            "colorbar": {
             "outlinewidth": 0,
             "ticks": ""
            },
            "type": "mesh3d"
           }
          ],
          "parcoords": [
           {
            "line": {
             "colorbar": {
              "outlinewidth": 0,
              "ticks": ""
             }
            },
            "type": "parcoords"
           }
          ],
          "pie": [
           {
            "automargin": true,
            "type": "pie"
           }
          ],
          "scatter": [
           {
            "fillpattern": {
             "fillmode": "overlay",
             "size": 10,
             "solidity": 0.2
            },
            "type": "scatter"
           }
          ],
          "scatter3d": [
           {
            "line": {
             "colorbar": {
              "outlinewidth": 0,
              "ticks": ""
             }
            },
            "marker": {
             "colorbar": {
              "outlinewidth": 0,
              "ticks": ""
             }
            },
            "type": "scatter3d"
           }
          ],
          "scattercarpet": [
           {
            "marker": {
             "colorbar": {
              "outlinewidth": 0,
              "ticks": ""
             }
            },
            "type": "scattercarpet"
           }
          ],
          "scattergeo": [
           {
            "marker": {
             "colorbar": {
              "outlinewidth": 0,
              "ticks": ""
             }
            },
            "type": "scattergeo"
           }
          ],
          "scattergl": [
           {
            "marker": {
             "colorbar": {
              "outlinewidth": 0,
              "ticks": ""
             }
            },
            "type": "scattergl"
           }
          ],
          "scattermapbox": [
           {
            "marker": {
             "colorbar": {
              "outlinewidth": 0,
              "ticks": ""
             }
            },
            "type": "scattermapbox"
           }
          ],
          "scatterpolar": [
           {
            "marker": {
             "colorbar": {
              "outlinewidth": 0,
              "ticks": ""
             }
            },
            "type": "scatterpolar"
           }
          ],
          "scatterpolargl": [
           {
            "marker": {
             "colorbar": {
              "outlinewidth": 0,
              "ticks": ""
             }
            },
            "type": "scatterpolargl"
           }
          ],
          "scatterternary": [
           {
            "marker": {
             "colorbar": {
              "outlinewidth": 0,
              "ticks": ""
             }
            },
            "type": "scatterternary"
           }
          ],
          "surface": [
           {
            "colorbar": {
             "outlinewidth": 0,
             "ticks": ""
            },
            "colorscale": [
             [
              0,
              "#0d0887"
             ],
             [
              0.1111111111111111,
              "#46039f"
             ],
             [
              0.2222222222222222,
              "#7201a8"
             ],
             [
              0.3333333333333333,
              "#9c179e"
             ],
             [
              0.4444444444444444,
              "#bd3786"
             ],
             [
              0.5555555555555556,
              "#d8576b"
             ],
             [
              0.6666666666666666,
              "#ed7953"
             ],
             [
              0.7777777777777778,
              "#fb9f3a"
             ],
             [
              0.8888888888888888,
              "#fdca26"
             ],
             [
              1,
              "#f0f921"
             ]
            ],
            "type": "surface"
           }
          ],
          "table": [
           {
            "cells": {
             "fill": {
              "color": "#EBF0F8"
             },
             "line": {
              "color": "white"
             }
            },
            "header": {
             "fill": {
              "color": "#C8D4E3"
             },
             "line": {
              "color": "white"
             }
            },
            "type": "table"
           }
          ]
         },
         "layout": {
          "annotationdefaults": {
           "arrowcolor": "#2a3f5f",
           "arrowhead": 0,
           "arrowwidth": 1
          },
          "autotypenumbers": "strict",
          "coloraxis": {
           "colorbar": {
            "outlinewidth": 0,
            "ticks": ""
           }
          },
          "colorscale": {
           "diverging": [
            [
             0,
             "#8e0152"
            ],
            [
             0.1,
             "#c51b7d"
            ],
            [
             0.2,
             "#de77ae"
            ],
            [
             0.3,
             "#f1b6da"
            ],
            [
             0.4,
             "#fde0ef"
            ],
            [
             0.5,
             "#f7f7f7"
            ],
            [
             0.6,
             "#e6f5d0"
            ],
            [
             0.7,
             "#b8e186"
            ],
            [
             0.8,
             "#7fbc41"
            ],
            [
             0.9,
             "#4d9221"
            ],
            [
             1,
             "#276419"
            ]
           ],
           "sequential": [
            [
             0,
             "#0d0887"
            ],
            [
             0.1111111111111111,
             "#46039f"
            ],
            [
             0.2222222222222222,
             "#7201a8"
            ],
            [
             0.3333333333333333,
             "#9c179e"
            ],
            [
             0.4444444444444444,
             "#bd3786"
            ],
            [
             0.5555555555555556,
             "#d8576b"
            ],
            [
             0.6666666666666666,
             "#ed7953"
            ],
            [
             0.7777777777777778,
             "#fb9f3a"
            ],
            [
             0.8888888888888888,
             "#fdca26"
            ],
            [
             1,
             "#f0f921"
            ]
           ],
           "sequentialminus": [
            [
             0,
             "#0d0887"
            ],
            [
             0.1111111111111111,
             "#46039f"
            ],
            [
             0.2222222222222222,
             "#7201a8"
            ],
            [
             0.3333333333333333,
             "#9c179e"
            ],
            [
             0.4444444444444444,
             "#bd3786"
            ],
            [
             0.5555555555555556,
             "#d8576b"
            ],
            [
             0.6666666666666666,
             "#ed7953"
            ],
            [
             0.7777777777777778,
             "#fb9f3a"
            ],
            [
             0.8888888888888888,
             "#fdca26"
            ],
            [
             1,
             "#f0f921"
            ]
           ]
          },
          "colorway": [
           "#636efa",
           "#EF553B",
           "#00cc96",
           "#ab63fa",
           "#FFA15A",
           "#19d3f3",
           "#FF6692",
           "#B6E880",
           "#FF97FF",
           "#FECB52"
          ],
          "font": {
           "color": "#2a3f5f"
          },
          "geo": {
           "bgcolor": "white",
           "lakecolor": "white",
           "landcolor": "#E5ECF6",
           "showlakes": true,
           "showland": true,
           "subunitcolor": "white"
          },
          "hoverlabel": {
           "align": "left"
          },
          "hovermode": "closest",
          "mapbox": {
           "style": "light"
          },
          "paper_bgcolor": "white",
          "plot_bgcolor": "#E5ECF6",
          "polar": {
           "angularaxis": {
            "gridcolor": "white",
            "linecolor": "white",
            "ticks": ""
           },
           "bgcolor": "#E5ECF6",
           "radialaxis": {
            "gridcolor": "white",
            "linecolor": "white",
            "ticks": ""
           }
          },
          "scene": {
           "xaxis": {
            "backgroundcolor": "#E5ECF6",
            "gridcolor": "white",
            "gridwidth": 2,
            "linecolor": "white",
            "showbackground": true,
            "ticks": "",
            "zerolinecolor": "white"
           },
           "yaxis": {
            "backgroundcolor": "#E5ECF6",
            "gridcolor": "white",
            "gridwidth": 2,
            "linecolor": "white",
            "showbackground": true,
            "ticks": "",
            "zerolinecolor": "white"
           },
           "zaxis": {
            "backgroundcolor": "#E5ECF6",
            "gridcolor": "white",
            "gridwidth": 2,
            "linecolor": "white",
            "showbackground": true,
            "ticks": "",
            "zerolinecolor": "white"
           }
          },
          "shapedefaults": {
           "line": {
            "color": "#2a3f5f"
           }
          },
          "ternary": {
           "aaxis": {
            "gridcolor": "white",
            "linecolor": "white",
            "ticks": ""
           },
           "baxis": {
            "gridcolor": "white",
            "linecolor": "white",
            "ticks": ""
           },
           "bgcolor": "#E5ECF6",
           "caxis": {
            "gridcolor": "white",
            "linecolor": "white",
            "ticks": ""
           }
          },
          "title": {
           "x": 0.05
          },
          "xaxis": {
           "automargin": true,
           "gridcolor": "white",
           "linecolor": "white",
           "ticks": "",
           "title": {
            "standoff": 15
           },
           "zerolinecolor": "white",
           "zerolinewidth": 2
          },
          "yaxis": {
           "automargin": true,
           "gridcolor": "white",
           "linecolor": "white",
           "ticks": "",
           "title": {
            "standoff": 15
           },
           "zerolinecolor": "white",
           "zerolinewidth": 2
          }
         }
        },
        "title": {
         "text": "Optimization History Plot"
        },
        "xaxis": {
         "title": {
          "text": "#Trials"
         }
        },
        "yaxis": {
         "title": {
          "text": "Objective Value"
         }
        }
       }
      }
     },
     "metadata": {},
     "output_type": "display_data"
    }
   ],
   "source": [
    "optuna.visualization.plot_optimization_history(study)"
   ]
  },
  {
   "cell_type": "markdown",
   "metadata": {},
   "source": [
    "The best parameters found by optuna are shown below."
   ]
  },
  {
   "cell_type": "code",
   "execution_count": 28,
   "metadata": {},
   "outputs": [
    {
     "data": {
      "text/html": [
       "<div>\n",
       "<style scoped>\n",
       "    .dataframe tbody tr th:only-of-type {\n",
       "        vertical-align: middle;\n",
       "    }\n",
       "\n",
       "    .dataframe tbody tr th {\n",
       "        vertical-align: top;\n",
       "    }\n",
       "\n",
       "    .dataframe thead th {\n",
       "        text-align: right;\n",
       "    }\n",
       "</style>\n",
       "<table border=\"1\" class=\"dataframe\">\n",
       "  <thead>\n",
       "    <tr style=\"text-align: right;\">\n",
       "      <th></th>\n",
       "      <th>Best Parameters</th>\n",
       "    </tr>\n",
       "  </thead>\n",
       "  <tbody>\n",
       "    <tr>\n",
       "      <th>iterations</th>\n",
       "      <td>776.000000</td>\n",
       "    </tr>\n",
       "    <tr>\n",
       "      <th>learning_rate</th>\n",
       "      <td>0.190552</td>\n",
       "    </tr>\n",
       "    <tr>\n",
       "      <th>depth</th>\n",
       "      <td>5.000000</td>\n",
       "    </tr>\n",
       "    <tr>\n",
       "      <th>l2_leaf_reg</th>\n",
       "      <td>40.222146</td>\n",
       "    </tr>\n",
       "  </tbody>\n",
       "</table>\n",
       "</div>"
      ],
      "text/plain": [
       "               Best Parameters\n",
       "iterations          776.000000\n",
       "learning_rate         0.190552\n",
       "depth                 5.000000\n",
       "l2_leaf_reg          40.222146"
      ]
     },
     "execution_count": 28,
     "metadata": {},
     "output_type": "execute_result"
    }
   ],
   "source": [
    "best_params = study.best_params\n",
    "best_paramsdf = pd.DataFrame([best_params]).T\n",
    "best_paramsdf.columns = ['Best Parameters']\n",
    "best_paramsdf"
   ]
  },
  {
   "cell_type": "markdown",
   "metadata": {},
   "source": [
    "# Optimized Model"
   ]
  },
  {
   "cell_type": "markdown",
   "metadata": {},
   "source": [
    "A **CatBoostRegressor** object is created and trained with the best parameters found and the training dataset preprocessed by us. <br>"
   ]
  },
  {
   "cell_type": "code",
   "execution_count": 29,
   "metadata": {},
   "outputs": [
    {
     "name": "stdout",
     "output_type": "stream",
     "text": [
      "RMSE: 1.1308459745295336\n"
     ]
    }
   ],
   "source": [
    "brr = CatBoostRegressor(**best_params, eval_metric='RMSE', random_seed=2791, verbose=0)\n",
    "brr.fit(X, log_target)\n",
    "print('RMSE:', np.mean(np.exp(np.sqrt(-cross_val_score(brr, X, log_target, scoring='neg_mean_squared_error', cv=kf)))))"
   ]
  },
  {
   "cell_type": "markdown",
   "metadata": {},
   "source": [
    "# Results"
   ]
  },
  {
   "cell_type": "markdown",
   "metadata": {},
   "source": [
    "Results are stored in a csv file"
   ]
  },
  {
   "cell_type": "code",
   "execution_count": 30,
   "metadata": {},
   "outputs": [],
   "source": [
    "preds = np.exp(brr.predict(X_test))\n",
    "preds = pd.Series(preds, name='SalePrice')"
   ]
  },
  {
   "cell_type": "code",
   "execution_count": 31,
   "metadata": {},
   "outputs": [
    {
     "data": {
      "text/html": [
       "<div>\n",
       "<style scoped>\n",
       "    .dataframe tbody tr th:only-of-type {\n",
       "        vertical-align: middle;\n",
       "    }\n",
       "\n",
       "    .dataframe tbody tr th {\n",
       "        vertical-align: top;\n",
       "    }\n",
       "\n",
       "    .dataframe thead th {\n",
       "        text-align: right;\n",
       "    }\n",
       "</style>\n",
       "<table border=\"1\" class=\"dataframe\">\n",
       "  <thead>\n",
       "    <tr style=\"text-align: right;\">\n",
       "      <th></th>\n",
       "      <th>Id</th>\n",
       "      <th>SalePrice</th>\n",
       "    </tr>\n",
       "  </thead>\n",
       "  <tbody>\n",
       "    <tr>\n",
       "      <th>0</th>\n",
       "      <td>1461</td>\n",
       "      <td>124112.793085</td>\n",
       "    </tr>\n",
       "    <tr>\n",
       "      <th>1</th>\n",
       "      <td>1462</td>\n",
       "      <td>160657.631802</td>\n",
       "    </tr>\n",
       "    <tr>\n",
       "      <th>2</th>\n",
       "      <td>1463</td>\n",
       "      <td>184527.493332</td>\n",
       "    </tr>\n",
       "    <tr>\n",
       "      <th>3</th>\n",
       "      <td>1464</td>\n",
       "      <td>190124.050162</td>\n",
       "    </tr>\n",
       "    <tr>\n",
       "      <th>4</th>\n",
       "      <td>1465</td>\n",
       "      <td>178916.283902</td>\n",
       "    </tr>\n",
       "    <tr>\n",
       "      <th>...</th>\n",
       "      <td>...</td>\n",
       "      <td>...</td>\n",
       "    </tr>\n",
       "    <tr>\n",
       "      <th>1454</th>\n",
       "      <td>2915</td>\n",
       "      <td>82610.700677</td>\n",
       "    </tr>\n",
       "    <tr>\n",
       "      <th>1455</th>\n",
       "      <td>2916</td>\n",
       "      <td>76161.945503</td>\n",
       "    </tr>\n",
       "    <tr>\n",
       "      <th>1456</th>\n",
       "      <td>2917</td>\n",
       "      <td>154610.811327</td>\n",
       "    </tr>\n",
       "    <tr>\n",
       "      <th>1457</th>\n",
       "      <td>2918</td>\n",
       "      <td>111235.144875</td>\n",
       "    </tr>\n",
       "    <tr>\n",
       "      <th>1458</th>\n",
       "      <td>2919</td>\n",
       "      <td>221262.076910</td>\n",
       "    </tr>\n",
       "  </tbody>\n",
       "</table>\n",
       "<p>1459 rows × 2 columns</p>\n",
       "</div>"
      ],
      "text/plain": [
       "        Id      SalePrice\n",
       "0     1461  124112.793085\n",
       "1     1462  160657.631802\n",
       "2     1463  184527.493332\n",
       "3     1464  190124.050162\n",
       "4     1465  178916.283902\n",
       "...    ...            ...\n",
       "1454  2915   82610.700677\n",
       "1455  2916   76161.945503\n",
       "1456  2917  154610.811327\n",
       "1457  2918  111235.144875\n",
       "1458  2919  221262.076910\n",
       "\n",
       "[1459 rows x 2 columns]"
      ]
     },
     "execution_count": 31,
     "metadata": {},
     "output_type": "execute_result"
    }
   ],
   "source": [
    "sub = pd.concat([test_id, preds], axis=1)\n",
    "sub"
   ]
  },
  {
   "cell_type": "code",
   "execution_count": 32,
   "metadata": {},
   "outputs": [],
   "source": [
    "sub.to_csv('submission.csv', header=True, index=False)"
   ]
  },
  {
   "cell_type": "code",
   "execution_count": null,
   "metadata": {},
   "outputs": [],
   "source": []
  }
 ],
 "metadata": {
  "kernelspec": {
   "display_name": "pycaret_env",
   "language": "python",
   "name": "pycaret_env"
  },
  "language_info": {
   "codemirror_mode": {
    "name": "ipython",
    "version": 3
   },
   "file_extension": ".py",
   "mimetype": "text/x-python",
   "name": "python",
   "nbconvert_exporter": "python",
   "pygments_lexer": "ipython3",
   "version": "3.8.15"
  },
  "vscode": {
   "interpreter": {
    "hash": "5a2e04c0b2dbbe81153ff1bbc09453241ec2ebbde9bef67bcc75cf36b543e2b8"
   }
  }
 },
 "nbformat": 4,
 "nbformat_minor": 4
}
